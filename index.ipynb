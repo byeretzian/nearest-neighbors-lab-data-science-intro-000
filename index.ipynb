{
 "cells": [
  {
   "cell_type": "markdown",
   "metadata": {},
   "source": [
    "# Nearest Neighbors Lab"
   ]
  },
  {
   "cell_type": "markdown",
   "metadata": {},
   "source": [
    "### Introduction\n",
    "\n",
    "In this lab, you apply nearest neighbors technique to help a taxi company predict the length of their rides.  Imagine that we are hired to consult for LiftOff, a limo and taxi service that is just opening up in NYC.  Liftoff wants it's taxi drivers to target longer rides, as the longer the ride the more money it makes.  LiftOff has the following theory:\n",
    "\n",
    "* the pickup location of a taxi ride can help predict the length of the ride.  \n",
    "\n",
    "\n",
    "\n",
    "LiftOff asks us to do some analysis to write a function that will allow it to **predict the length of a taxi ride for any given location **.\n",
    "\n",
    "Our technique will be the following:\n",
    "  * **Collect** Obtain the data containing all of the taxi information, and only select the attributes of taxi trips that we need \n",
    "  * ** Explore ** Examine the attributes of our data, and plot some of our data on a map\n",
    "  * ** Train ** Write our nearest neighbors formula, and change the number of nearby trips to predict the length of a new trip\n",
    "  * ** Predict ** Use our function to predict trip lengths of new locations"
   ]
  },
  {
   "cell_type": "markdown",
   "metadata": {},
   "source": [
    "### Collect and Explore the data"
   ]
  },
  {
   "cell_type": "markdown",
   "metadata": {},
   "source": [
    "#### Collect the Data"
   ]
  },
  {
   "cell_type": "markdown",
   "metadata": {},
   "source": [
    "Luckily for us, [NYC Open Data](https://opendata.cityofnewyork.us/) collects information about NYC taxi trips and provides this data on [its website](https://data.cityofnewyork.us/Transportation/2014-Yellow-Taxi-Trip-Data/gn7m-em8n)."
   ]
  },
  {
   "cell_type": "markdown",
   "metadata": {},
   "source": [
    "![](./nyc-taxi.png)"
   ]
  },
  {
   "cell_type": "markdown",
   "metadata": {},
   "source": [
    "For your reading pleasure, the data has already been downloaded into the [trips.json](https://github.com/learn-co-curriculum/nearest-neighbors-lab/blob/master/trips.json) file in this lab which you can find here.  We'll use Python's `json` library to take the data from the `trips.json` file and store it as a variable in our notebook."
   ]
  },
  {
   "cell_type": "code",
   "execution_count": 1,
   "metadata": {},
   "outputs": [],
   "source": [
    "import json\n",
    "# First, read the file\n",
    "trips_file = open('trips.json')\n",
    "# Then, convert contents to list of dictionaries \n",
    "trips = json.load(trips_file)"
   ]
  },
  {
   "cell_type": "markdown",
   "metadata": {},
   "source": [
    "> Press shift + enter"
   ]
  },
  {
   "cell_type": "markdown",
   "metadata": {},
   "source": [
    "#### Explore the data"
   ]
  },
  {
   "cell_type": "markdown",
   "metadata": {},
   "source": [
    "The next step is to explore the data.  First, let's see how many trips we have."
   ]
  },
  {
   "cell_type": "code",
   "execution_count": 2,
   "metadata": {},
   "outputs": [
    {
     "data": {
      "text/plain": [
       "1000"
      ]
     },
     "execution_count": 2,
     "metadata": {},
     "output_type": "execute_result"
    }
   ],
   "source": [
    "len(trips)"
   ]
  },
  {
   "cell_type": "markdown",
   "metadata": {},
   "source": [
    "Not bad at all.  Now let's see what each individual trip looks like.  Each trip is a dictionary, so we can see the attributes of each trip with the `keys` function."
   ]
  },
  {
   "cell_type": "code",
   "execution_count": 3,
   "metadata": {
    "scrolled": true
   },
   "outputs": [
    {
     "data": {
      "text/plain": [
       "dict_keys(['dropoff_datetime', 'dropoff_latitude', 'dropoff_longitude', 'fare_amount', 'imp_surcharge', 'mta_tax', 'passenger_count', 'payment_type', 'pickup_datetime', 'pickup_latitude', 'pickup_longitude', 'rate_code', 'tip_amount', 'tolls_amount', 'total_amount', 'trip_distance', 'vendor_id'])"
      ]
     },
     "execution_count": 3,
     "metadata": {},
     "output_type": "execute_result"
    }
   ],
   "source": [
    "trips[0].keys()"
   ]
  },
  {
   "cell_type": "markdown",
   "metadata": {},
   "source": [
    "#### Limit our data"
   ]
  },
  {
   "cell_type": "markdown",
   "metadata": {},
   "source": [
    "Ok, now that we have explored some of our data, let's begin to think through what data is relevant for our task."
   ]
  },
  {
   "cell_type": "markdown",
   "metadata": {
    "collapsed": true
   },
   "source": [
    "Remember that our task is to **use the trip location to predict the length of a trip**.  So let's select the `pickup_latitude`, `pickup_longitude`, and `trip_distance` from each trip.  That will give us the trip location and related `trip_distance` for each trip.  Then based on these **actual** trip distances we can use nearest neighbors to predict an **expected** trip distance for a trip, provided an **actual** location."
   ]
  },
  {
   "cell_type": "markdown",
   "metadata": {},
   "source": [
    "** Add in about trip distance ** "
   ]
  },
  {
   "cell_type": "markdown",
   "metadata": {},
   "source": [
    "Write a function called `parse_trips(trips)` that returns a list of the trips with only the following attributes: \n",
    "* `trip_distance`\n",
    "* `pickup_latitude`\n",
    "* `pickup_longitude`"
   ]
  },
  {
   "cell_type": "code",
   "execution_count": 4,
   "metadata": {},
   "outputs": [],
   "source": [
    "def parse_trips(trips):\n",
    "    parsed = list(map(lambda trip: dict(trip_distance=trip['trip_distance'], \n",
    "                                           pickup_latitude=trip['pickup_latitude'], \n",
    "                                           pickup_longitude=trip['pickup_longitude']), trips))\n",
    "    return parsed"
   ]
  },
  {
   "cell_type": "code",
   "execution_count": 5,
   "metadata": {},
   "outputs": [
    {
     "data": {
      "text/plain": [
       "{'trip_distance': '18.379999999999999',\n",
       " 'pickup_latitude': '40.64499',\n",
       " 'pickup_longitude': '-73.781149999999997'}"
      ]
     },
     "execution_count": 5,
     "metadata": {},
     "output_type": "execute_result"
    }
   ],
   "source": [
    "parsed_trips = parse_trips(trips)\n",
    "parsed_trips and parsed_trips[0]\n",
    "\n",
    "# {'pickup_latitude': '40.64499',\n",
    "#  'pickup_longitude': '-73.78115',\n",
    "#  'trip_distance': '18.38'}"
   ]
  },
  {
   "cell_type": "markdown",
   "metadata": {},
   "source": [
    "Now, there's just one change to make.  If you look at one of the trips, all of the values are strings.  Let's change them to be floats."
   ]
  },
  {
   "cell_type": "code",
   "execution_count": 6,
   "metadata": {},
   "outputs": [],
   "source": [
    "def float_values(trips):\n",
    "    for trip in trips:\n",
    "        for key, value in trip.items():\n",
    "            trip[key] = float(value)\n",
    "    return trips"
   ]
  },
  {
   "cell_type": "code",
   "execution_count": 7,
   "metadata": {},
   "outputs": [],
   "source": [
    "cleaned_trips = float_values(parsed_trips)"
   ]
  },
  {
   "cell_type": "code",
   "execution_count": 8,
   "metadata": {},
   "outputs": [
    {
     "data": {
      "text/plain": [
       "{'trip_distance': 18.38,\n",
       " 'pickup_latitude': 40.64499,\n",
       " 'pickup_longitude': -73.78115}"
      ]
     },
     "execution_count": 8,
     "metadata": {},
     "output_type": "execute_result"
    }
   ],
   "source": [
    "cleaned_trips[0]\n",
    "\n",
    "# {'pickup_latitude': 40.64499,\n",
    "#  'pickup_longitude': -73.78115,\n",
    "#  'trip_distance': 18.38}"
   ]
  },
  {
   "cell_type": "markdown",
   "metadata": {},
   "source": [
    "### Exploring the Data"
   ]
  },
  {
   "cell_type": "markdown",
   "metadata": {},
   "source": [
    "Now that we have paired down our data, let's get a sense of our trip data.  We can use the `folium` Python library to plot a map of Manhattan, and our data.  First we must import `folium`, and then use the `Map` function to pass through a `location`, and `zoom_start`.  If a map isn't showing up below, copy and paste the command `pip install -r requirements.txt` into your terminal to install `folium` then try again."
   ]
  },
  {
   "cell_type": "code",
   "execution_count": 9,
   "metadata": {},
   "outputs": [],
   "source": [
    "import folium\n",
    "manhattan_map = folium.Map(location=[40.7589, -73.9851], zoom_start=11)"
   ]
  },
  {
   "cell_type": "code",
   "execution_count": 10,
   "metadata": {
    "scrolled": true
   },
   "outputs": [
    {
     "data": {
      "text/html": [
       "<div style=\"width:100%;\"><div style=\"position:relative;width:100%;height:0;padding-bottom:60%;\"><iframe src=\"data:text/html;charset=utf-8;base64,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\" style=\"position:absolute;width:100%;height:100%;left:0;top:0;border:none !important;\" allowfullscreen webkitallowfullscreen mozallowfullscreen></iframe></div></div>"
      ],
      "text/plain": [
       "<folium.folium.Map at 0x7fea48231400>"
      ]
     },
     "execution_count": 10,
     "metadata": {},
     "output_type": "execute_result"
    }
   ],
   "source": [
    "manhattan_map"
   ]
  },
  {
   "cell_type": "markdown",
   "metadata": {},
   "source": [
    "Ok, now let's see how we could add a dot to mark a specific location.  We'll start with Times Square."
   ]
  },
  {
   "cell_type": "code",
   "execution_count": 11,
   "metadata": {},
   "outputs": [
    {
     "data": {
      "text/plain": [
       "<folium.vector_layers.CircleMarker at 0x7fea2be5d048>"
      ]
     },
     "execution_count": 11,
     "metadata": {},
     "output_type": "execute_result"
    }
   ],
   "source": [
    "marker = folium.CircleMarker(location = [40.7589, -73.9851], radius=10)\n",
    "marker.add_to(manhattan_map)"
   ]
  },
  {
   "cell_type": "markdown",
   "metadata": {},
   "source": [
    "Above, we first create a marker.  Then we add that circle marker to the `manhattan_map` we created earlier. "
   ]
  },
  {
   "cell_type": "code",
   "execution_count": 12,
   "metadata": {
    "scrolled": false
   },
   "outputs": [
    {
     "data": {
      "text/html": [
       "<div style=\"width:100%;\"><div style=\"position:relative;width:100%;height:0;padding-bottom:60%;\"><iframe src=\"data:text/html;charset=utf-8;base64,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\" style=\"position:absolute;width:100%;height:100%;left:0;top:0;border:none !important;\" allowfullscreen webkitallowfullscreen mozallowfullscreen></iframe></div></div>"
      ],
      "text/plain": [
       "<folium.folium.Map at 0x7fea48231400>"
      ]
     },
     "execution_count": 12,
     "metadata": {},
     "output_type": "execute_result"
    }
   ],
   "source": [
    "manhattan_map"
   ]
  },
  {
   "cell_type": "markdown",
   "metadata": {},
   "source": [
    "Do you see that blue dot near Time's Square?  That is our marker.  \n",
    "\n",
    "So now that we can plot one marker on a map, we should have a sense of how we can plot many markers on a map to display our taxi ride data.  We simply plot a map, and then we add a marker for each location of a taxi trip.\n",
    "\n",
    "Now let's write some functions to allow us to plot maps and add markers a little more easily.  "
   ]
  },
  {
   "cell_type": "markdown",
   "metadata": {},
   "source": [
    "#### Writing some map plotting functions"
   ]
  },
  {
   "cell_type": "markdown",
   "metadata": {},
   "source": [
    "As a first step towards this, note that the functions to create both a marker and map each take in a location as two element list, representing the latitude and longitude values.  Take another look:\n",
    "\n",
    "```python\n",
    "marker = folium.CircleMarker(location = [40.7589, -73.9851])\n",
    "manhattan_map = folium.Map(location=[40.7589, -73.9851])\n",
    "```\n",
    "\n",
    "So let's write a function called to create this two element list from a trip.  Write a function called `location` that  takes in a trip as an argument and returns a list where the first element is the latitude and the second is the longitude.  Remember that a location looks like the following:"
   ]
  },
  {
   "cell_type": "code",
   "execution_count": 74,
   "metadata": {},
   "outputs": [
    {
     "data": {
      "text/plain": [
       "{'pickup_latitude': 40.64499,\n",
       " 'pickup_longitude': -73.78115,\n",
       " 'trip_distance': 18.38}"
      ]
     },
     "execution_count": 74,
     "metadata": {},
     "output_type": "execute_result"
    }
   ],
   "source": [
    "first_trip = {'pickup_latitude': 40.64499, 'pickup_longitude': -73.78115,  'trip_distance': 18.38}\n",
    "first_trip"
   ]
  },
  {
   "cell_type": "code",
   "execution_count": 75,
   "metadata": {},
   "outputs": [],
   "source": [
    "def location(trip):\n",
    "    location = [trip['pickup_latitude'], trip['pickup_longitude']]\n",
    "    return location"
   ]
  },
  {
   "cell_type": "code",
   "execution_count": 76,
   "metadata": {},
   "outputs": [
    {
     "data": {
      "text/plain": [
       "[40.64499, -73.78115]"
      ]
     },
     "execution_count": 76,
     "metadata": {},
     "output_type": "execute_result"
    }
   ],
   "source": [
    "first_location = location(first_trip) # [40.64499, -73.78115]\n",
    "first_location # [40.64499, -73.78115]"
   ]
  },
  {
   "cell_type": "markdown",
   "metadata": {},
   "source": [
    "Ok, now that we can turn a trip into a location, let's turn a location into a marker.  Write a function called `to_marker` that takes in a location (in the form of a list) as an argument, and returns a folium `circleMarker` for that location.  The radius of the marker should always equal 6."
   ]
  },
  {
   "cell_type": "code",
   "execution_count": 81,
   "metadata": {},
   "outputs": [],
   "source": [
    "def to_marker(location):\n",
    "    marker = folium.CircleMarker(location = [location[0], location[1]], radius=6)\n",
    "    return marker"
   ]
  },
  {
   "cell_type": "code",
   "execution_count": 85,
   "metadata": {},
   "outputs": [
    {
     "data": {
      "text/plain": [
       "6"
      ]
     },
     "execution_count": 85,
     "metadata": {},
     "output_type": "execute_result"
    }
   ],
   "source": [
    "import json\n",
    "times_square_marker = to_marker([40.7589, -73.9851])\n",
    "\n",
    "times_square_marker and times_square_marker.location # [40.7589, -73.9851]\n",
    "times_square_marker and json.loads(times_square_marker.options)['radius'] # 6"
   ]
  },
  {
   "cell_type": "markdown",
   "metadata": {},
   "source": [
    "Ok, now that we know how to produce a single marker, let's write a function to produce lots.  We can write a function called `markers_from_trips` that takes in a list of trips, and returns a marker object for each trip.  "
   ]
  },
  {
   "cell_type": "code",
   "execution_count": 95,
   "metadata": {},
   "outputs": [],
   "source": [
    "def markers_from_trips(trips):\n",
    "    locations = list(map(lambda trip: location(trip), trips))\n",
    "    markers = list(map(lambda location: to_marker(location), locations))\n",
    "    return markers\n"
   ]
  },
  {
   "cell_type": "code",
   "execution_count": 96,
   "metadata": {},
   "outputs": [
    {
     "data": {
      "text/plain": [
       "[<folium.vector_layers.CircleMarker at 0x7fea2bd2f5c0>,\n",
       " <folium.vector_layers.CircleMarker at 0x7fea2bd2f710>,\n",
       " <folium.vector_layers.CircleMarker at 0x7fea2bd2f748>,\n",
       " <folium.vector_layers.CircleMarker at 0x7fea2bd2f7f0>,\n",
       " <folium.vector_layers.CircleMarker at 0x7fea2bd2f5f8>,\n",
       " <folium.vector_layers.CircleMarker at 0x7fea2bd2f2b0>,\n",
       " <folium.vector_layers.CircleMarker at 0x7fea2bd2f668>,\n",
       " <folium.vector_layers.CircleMarker at 0x7fea2bd2f9b0>,\n",
       " <folium.vector_layers.CircleMarker at 0x7fea2bd2fa58>,\n",
       " <folium.vector_layers.CircleMarker at 0x7fea2bd2fb00>,\n",
       " <folium.vector_layers.CircleMarker at 0x7fea2bd2fba8>,\n",
       " <folium.vector_layers.CircleMarker at 0x7fea2bd2fc50>,\n",
       " <folium.vector_layers.CircleMarker at 0x7fea2bd2fcf8>,\n",
       " <folium.vector_layers.CircleMarker at 0x7fea2bd2fda0>,\n",
       " <folium.vector_layers.CircleMarker at 0x7fea2bd2fe48>,\n",
       " <folium.vector_layers.CircleMarker at 0x7fea2bd2fef0>,\n",
       " <folium.vector_layers.CircleMarker at 0x7fea2bd2ff98>,\n",
       " <folium.vector_layers.CircleMarker at 0x7fea2bd2ff28>,\n",
       " <folium.vector_layers.CircleMarker at 0x7fea2bcc60f0>,\n",
       " <folium.vector_layers.CircleMarker at 0x7fea2bcc61d0>,\n",
       " <folium.vector_layers.CircleMarker at 0x7fea2bcc6320>,\n",
       " <folium.vector_layers.CircleMarker at 0x7fea2bcc6048>,\n",
       " <folium.vector_layers.CircleMarker at 0x7fea2bcc64a8>,\n",
       " <folium.vector_layers.CircleMarker at 0x7fea2bd2f278>,\n",
       " <folium.vector_layers.CircleMarker at 0x7fea2bd2fdd8>,\n",
       " <folium.vector_layers.CircleMarker at 0x7fea2bd2fbe0>,\n",
       " <folium.vector_layers.CircleMarker at 0x7fea2bd2fcc0>,\n",
       " <folium.vector_layers.CircleMarker at 0x7fea2bd2f9e8>,\n",
       " <folium.vector_layers.CircleMarker at 0x7fea2bd2fac8>,\n",
       " <folium.vector_layers.CircleMarker at 0x7fea2bd2f8d0>,\n",
       " <folium.vector_layers.CircleMarker at 0x7fea2bd2f780>,\n",
       " <folium.vector_layers.CircleMarker at 0x7fea2bd2f630>,\n",
       " <folium.vector_layers.CircleMarker at 0x7fea2bd2f828>,\n",
       " <folium.vector_layers.CircleMarker at 0x7fea2bcc6438>,\n",
       " <folium.vector_layers.CircleMarker at 0x7fea2bcc6128>,\n",
       " <folium.vector_layers.CircleMarker at 0x7fea2bcc6160>,\n",
       " <folium.vector_layers.CircleMarker at 0x7fea2bcc6588>,\n",
       " <folium.vector_layers.CircleMarker at 0x7fea2bcc6630>,\n",
       " <folium.vector_layers.CircleMarker at 0x7fea2bcc6470>,\n",
       " <folium.vector_layers.CircleMarker at 0x7fea2bcc6710>,\n",
       " <folium.vector_layers.CircleMarker at 0x7fea2bcc67b8>,\n",
       " <folium.vector_layers.CircleMarker at 0x7fea2bcc6860>,\n",
       " <folium.vector_layers.CircleMarker at 0x7fea2bcc6908>,\n",
       " <folium.vector_layers.CircleMarker at 0x7fea2bcc69b0>,\n",
       " <folium.vector_layers.CircleMarker at 0x7fea2bcc6a58>,\n",
       " <folium.vector_layers.CircleMarker at 0x7fea2bd2fb38>,\n",
       " <folium.vector_layers.CircleMarker at 0x7fea2bd2fb70>,\n",
       " <folium.vector_layers.CircleMarker at 0x7fea2bd2f908>,\n",
       " <folium.vector_layers.CircleMarker at 0x7fea2bd2fd68>,\n",
       " <folium.vector_layers.CircleMarker at 0x7fea2bd2fd30>,\n",
       " <folium.vector_layers.CircleMarker at 0x7fea2bd2feb8>,\n",
       " <folium.vector_layers.CircleMarker at 0x7fea2bcc6898>,\n",
       " <folium.vector_layers.CircleMarker at 0x7fea2bcc68d0>,\n",
       " <folium.vector_layers.CircleMarker at 0x7fea2bcc6780>,\n",
       " <folium.vector_layers.CircleMarker at 0x7fea2bcc6080>,\n",
       " <folium.vector_layers.CircleMarker at 0x7fea2bcc65f8>,\n",
       " <folium.vector_layers.CircleMarker at 0x7fea2bcc6550>,\n",
       " <folium.vector_layers.CircleMarker at 0x7fea2bcc6208>,\n",
       " <folium.vector_layers.CircleMarker at 0x7fea2bcc6b00>,\n",
       " <folium.vector_layers.CircleMarker at 0x7fea2bcc69e8>,\n",
       " <folium.vector_layers.CircleMarker at 0x7fea2bcc6c18>,\n",
       " <folium.vector_layers.CircleMarker at 0x7fea2bcc6c50>,\n",
       " <folium.vector_layers.CircleMarker at 0x7fea2bcc6cf8>,\n",
       " <folium.vector_layers.CircleMarker at 0x7fea2bcc6da0>,\n",
       " <folium.vector_layers.CircleMarker at 0x7fea2bcc6e48>,\n",
       " <folium.vector_layers.CircleMarker at 0x7fea2bcc6ef0>,\n",
       " <folium.vector_layers.CircleMarker at 0x7fea2bd2ffd0>,\n",
       " <folium.vector_layers.CircleMarker at 0x7fea2bd2fe10>,\n",
       " <folium.vector_layers.CircleMarker at 0x7fea2bd2f898>,\n",
       " <folium.vector_layers.CircleMarker at 0x7fea2bd2f940>,\n",
       " <folium.vector_layers.CircleMarker at 0x7fea2bcc6d30>,\n",
       " <folium.vector_layers.CircleMarker at 0x7fea2bcc6d68>,\n",
       " <folium.vector_layers.CircleMarker at 0x7fea2bcc62e8>,\n",
       " <folium.vector_layers.CircleMarker at 0x7fea2bcc6198>,\n",
       " <folium.vector_layers.CircleMarker at 0x7fea2bcc6940>,\n",
       " <folium.vector_layers.CircleMarker at 0x7fea2bcc63c8>,\n",
       " <folium.vector_layers.CircleMarker at 0x7fea2bcc6240>,\n",
       " <folium.vector_layers.CircleMarker at 0x7fea2bcc6668>,\n",
       " <folium.vector_layers.CircleMarker at 0x7fea2bcc6a20>,\n",
       " <folium.vector_layers.CircleMarker at 0x7fea2bcc6f98>,\n",
       " <folium.vector_layers.CircleMarker at 0x7fea2bcc67f0>,\n",
       " <folium.vector_layers.CircleMarker at 0x7fea2bcc6e80>,\n",
       " <folium.vector_layers.CircleMarker at 0x7fea2bcd80f0>,\n",
       " <folium.vector_layers.CircleMarker at 0x7fea2bcd81d0>,\n",
       " <folium.vector_layers.CircleMarker at 0x7fea2bcd8278>,\n",
       " <folium.vector_layers.CircleMarker at 0x7fea2bcd8320>,\n",
       " <folium.vector_layers.CircleMarker at 0x7fea2bcd83c8>,\n",
       " <folium.vector_layers.CircleMarker at 0x7fea2bcc6c88>,\n",
       " <folium.vector_layers.CircleMarker at 0x7fea2bcc6828>,\n",
       " <folium.vector_layers.CircleMarker at 0x7fea2bcc64e0>,\n",
       " <folium.vector_layers.CircleMarker at 0x7fea2bcc66a0>,\n",
       " <folium.vector_layers.CircleMarker at 0x7fea2bcc6ba8>,\n",
       " <folium.vector_layers.CircleMarker at 0x7fea2bcc6be0>,\n",
       " <folium.vector_layers.CircleMarker at 0x7fea2bcc6e10>,\n",
       " <folium.vector_layers.CircleMarker at 0x7fea2bcc6b70>,\n",
       " <folium.vector_layers.CircleMarker at 0x7fea2bd2f7b8>,\n",
       " <folium.vector_layers.CircleMarker at 0x7fea2bd2fc88>,\n",
       " <folium.vector_layers.CircleMarker at 0x7fea2bd2fe80>,\n",
       " <folium.vector_layers.CircleMarker at 0x7fea2bcd8128>,\n",
       " <folium.vector_layers.CircleMarker at 0x7fea2bcd8198>,\n",
       " <folium.vector_layers.CircleMarker at 0x7fea2bcd84a8>,\n",
       " <folium.vector_layers.CircleMarker at 0x7fea2bcd8550>,\n",
       " <folium.vector_layers.CircleMarker at 0x7fea2bcd8048>,\n",
       " <folium.vector_layers.CircleMarker at 0x7fea2bcd8630>,\n",
       " <folium.vector_layers.CircleMarker at 0x7fea2bcd86d8>,\n",
       " <folium.vector_layers.CircleMarker at 0x7fea2bcd8780>,\n",
       " <folium.vector_layers.CircleMarker at 0x7fea2bcd8828>,\n",
       " <folium.vector_layers.CircleMarker at 0x7fea2bcd88d0>,\n",
       " <folium.vector_layers.CircleMarker at 0x7fea2bcd8978>,\n",
       " <folium.vector_layers.CircleMarker at 0x7fea2bcc6b38>,\n",
       " <folium.vector_layers.CircleMarker at 0x7fea2bcc6f28>,\n",
       " <folium.vector_layers.CircleMarker at 0x7fea2bcc6dd8>,\n",
       " <folium.vector_layers.CircleMarker at 0x7fea2bcc6fd0>,\n",
       " <folium.vector_layers.CircleMarker at 0x7fea2bcc62b0>,\n",
       " <folium.vector_layers.CircleMarker at 0x7fea2bcc6ac8>,\n",
       " <folium.vector_layers.CircleMarker at 0x7fea2bd2fc18>,\n",
       " <folium.vector_layers.CircleMarker at 0x7fea2bd2f6d8>,\n",
       " <folium.vector_layers.CircleMarker at 0x7fea2bd2f6a0>,\n",
       " <folium.vector_layers.CircleMarker at 0x7fea2bdbb710>,\n",
       " <folium.vector_layers.CircleMarker at 0x7fea2be4a278>,\n",
       " <folium.vector_layers.CircleMarker at 0x7fea2bdbb4a8>,\n",
       " <folium.vector_layers.CircleMarker at 0x7fea2bdbb828>,\n",
       " <folium.vector_layers.CircleMarker at 0x7fea2bdbb588>,\n",
       " <folium.vector_layers.CircleMarker at 0x7fea2bdb1fd0>,\n",
       " <folium.vector_layers.CircleMarker at 0x7fea2bdb1e80>,\n",
       " <folium.vector_layers.CircleMarker at 0x7fea2bdb1080>,\n",
       " <folium.vector_layers.CircleMarker at 0x7fea2bdb1f98>,\n",
       " <folium.vector_layers.CircleMarker at 0x7fea2bda9550>,\n",
       " <folium.vector_layers.CircleMarker at 0x7fea2bda9c50>,\n",
       " <folium.vector_layers.CircleMarker at 0x7fea2bda9eb8>,\n",
       " <folium.vector_layers.CircleMarker at 0x7fea2bda99e8>,\n",
       " <folium.vector_layers.CircleMarker at 0x7fea2bda9e10>,\n",
       " <folium.vector_layers.CircleMarker at 0x7fea2bdb1cf8>,\n",
       " <folium.vector_layers.CircleMarker at 0x7fea2bdb1b00>,\n",
       " <folium.vector_layers.CircleMarker at 0x7fea2bdb1d30>,\n",
       " <folium.vector_layers.CircleMarker at 0x7fea2bdbb208>,\n",
       " <folium.vector_layers.CircleMarker at 0x7fea2bdbb6d8>,\n",
       " <folium.vector_layers.CircleMarker at 0x7fea2bdbb668>,\n",
       " <folium.vector_layers.CircleMarker at 0x7fea2bd2ff60>,\n",
       " <folium.vector_layers.CircleMarker at 0x7fea2bd2f978>,\n",
       " <folium.vector_layers.CircleMarker at 0x7fea2bcc6f60>,\n",
       " <folium.vector_layers.CircleMarker at 0x7fea2bcc65c0>,\n",
       " <folium.vector_layers.CircleMarker at 0x7fea2bcc6390>,\n",
       " <folium.vector_layers.CircleMarker at 0x7fea2bda94a8>,\n",
       " <folium.vector_layers.CircleMarker at 0x7fea2bda9b00>,\n",
       " <folium.vector_layers.CircleMarker at 0x7fea2bda9320>,\n",
       " <folium.vector_layers.CircleMarker at 0x7fea2bda9940>,\n",
       " <folium.vector_layers.CircleMarker at 0x7fea2bda9080>,\n",
       " <folium.vector_layers.CircleMarker at 0x7fea2bda9f98>,\n",
       " <folium.vector_layers.CircleMarker at 0x7fea2bda9cf8>,\n",
       " <folium.vector_layers.CircleMarker at 0x7fea48b770b8>,\n",
       " <folium.vector_layers.CircleMarker at 0x7fea493d79b0>,\n",
       " <folium.vector_layers.CircleMarker at 0x7fea2bda9198>,\n",
       " <folium.vector_layers.CircleMarker at 0x7fea2bda9278>,\n",
       " <folium.vector_layers.CircleMarker at 0x7fea2bcc66d8>,\n",
       " <folium.vector_layers.CircleMarker at 0x7fea2bd2f860>,\n",
       " <folium.vector_layers.CircleMarker at 0x7fea2bcc6748>,\n",
       " <folium.vector_layers.CircleMarker at 0x7fea2bcc6400>,\n",
       " <folium.vector_layers.CircleMarker at 0x7fea2bdbb7b8>,\n",
       " <folium.vector_layers.CircleMarker at 0x7fea2bdbb748>,\n",
       " <folium.vector_layers.CircleMarker at 0x7fea2bdb1278>,\n",
       " <folium.vector_layers.CircleMarker at 0x7fea2bda9860>,\n",
       " <folium.vector_layers.CircleMarker at 0x7fea2bda9ac8>,\n",
       " <folium.vector_layers.CircleMarker at 0x7fea2bda9898>,\n",
       " <folium.vector_layers.CircleMarker at 0x7fea2bda94e0>,\n",
       " <folium.vector_layers.CircleMarker at 0x7fea2bda9668>,\n",
       " <folium.vector_layers.CircleMarker at 0x7fea2bda9748>,\n",
       " <folium.vector_layers.CircleMarker at 0x7fea2bda9208>,\n",
       " <folium.vector_layers.CircleMarker at 0x7fea2bda9b38>,\n",
       " <folium.vector_layers.CircleMarker at 0x7fea2bdf87f0>,\n",
       " <folium.vector_layers.CircleMarker at 0x7fea2bdf8518>,\n",
       " <folium.vector_layers.CircleMarker at 0x7fea2bdac160>,\n",
       " <folium.vector_layers.CircleMarker at 0x7fea2bdacba8>,\n",
       " <folium.vector_layers.CircleMarker at 0x7fea2bdacda0>,\n",
       " <folium.vector_layers.CircleMarker at 0x7fea2bdac400>,\n",
       " <folium.vector_layers.CircleMarker at 0x7fea2bdac198>,\n",
       " <folium.vector_layers.CircleMarker at 0x7fea2bdf8b70>,\n",
       " <folium.vector_layers.CircleMarker at 0x7fea2bda9780>,\n",
       " <folium.vector_layers.CircleMarker at 0x7fea2bda95f8>,\n",
       " <folium.vector_layers.CircleMarker at 0x7fea2bda95c0>,\n",
       " <folium.vector_layers.CircleMarker at 0x7fea2bdb1f28>,\n",
       " <folium.vector_layers.CircleMarker at 0x7fea2bd2fa20>,\n",
       " <folium.vector_layers.CircleMarker at 0x7fea2bda9d68>,\n",
       " <folium.vector_layers.CircleMarker at 0x7fea2bda9240>,\n",
       " <folium.vector_layers.CircleMarker at 0x7fea2bcc6978>,\n",
       " <folium.vector_layers.CircleMarker at 0x7fea2bcc6a90>,\n",
       " <folium.vector_layers.CircleMarker at 0x7fea2bdbb080>,\n",
       " <folium.vector_layers.CircleMarker at 0x7fea2bdac908>,\n",
       " <folium.vector_layers.CircleMarker at 0x7fea2bdacc50>,\n",
       " <folium.vector_layers.CircleMarker at 0x7fea2bdacb70>,\n",
       " <folium.vector_layers.CircleMarker at 0x7fea2bdac2b0>,\n",
       " <folium.vector_layers.CircleMarker at 0x7fea2bdacf28>,\n",
       " <folium.vector_layers.CircleMarker at 0x7fea2bdac358>,\n",
       " <folium.vector_layers.CircleMarker at 0x7fea2bcd87b8>,\n",
       " <folium.vector_layers.CircleMarker at 0x7fea2bcd87f0>,\n",
       " <folium.vector_layers.CircleMarker at 0x7fea2bcd86a0>,\n",
       " <folium.vector_layers.CircleMarker at 0x7fea2bcd8160>,\n",
       " <folium.vector_layers.CircleMarker at 0x7fea2bcd8518>,\n",
       " <folium.vector_layers.CircleMarker at 0x7fea2bdace80>,\n",
       " <folium.vector_layers.CircleMarker at 0x7fea2bcc6358>,\n",
       " <folium.vector_layers.CircleMarker at 0x7fea2bdac9b0>,\n",
       " <folium.vector_layers.CircleMarker at 0x7fea2bd2fa90>,\n",
       " <folium.vector_layers.CircleMarker at 0x7fea2bdbb4e0>,\n",
       " <folium.vector_layers.CircleMarker at 0x7fea2bdbb550>,\n",
       " <folium.vector_layers.CircleMarker at 0x7fea2bdaccc0>,\n",
       " <folium.vector_layers.CircleMarker at 0x7fea2bdac208>,\n",
       " <folium.vector_layers.CircleMarker at 0x7fea2bda90f0>,\n",
       " <folium.vector_layers.CircleMarker at 0x7fea2bda9ba8>,\n",
       " <folium.vector_layers.CircleMarker at 0x7fea2bda9c88>,\n",
       " <folium.vector_layers.CircleMarker at 0x7fea2bcd85c0>,\n",
       " <folium.vector_layers.CircleMarker at 0x7fea2bcd8748>,\n",
       " <folium.vector_layers.CircleMarker at 0x7fea2bcd8240>,\n",
       " <folium.vector_layers.CircleMarker at 0x7fea2bcd8400>,\n",
       " <folium.vector_layers.CircleMarker at 0x7fea2bcd8438>,\n",
       " <folium.vector_layers.CircleMarker at 0x7fea2bcd8860>,\n",
       " <folium.vector_layers.CircleMarker at 0x7fea2bcd8a58>,\n",
       " <folium.vector_layers.CircleMarker at 0x7fea2bcd8b00>,\n",
       " <folium.vector_layers.CircleMarker at 0x7fea2bcd84e0>,\n",
       " <folium.vector_layers.CircleMarker at 0x7fea2bcd8be0>,\n",
       " <folium.vector_layers.CircleMarker at 0x7fea2bdb1d68>,\n",
       " <folium.vector_layers.CircleMarker at 0x7fea2bdf8630>,\n",
       " <folium.vector_layers.CircleMarker at 0x7fea2bdbb860>,\n",
       " <folium.vector_layers.CircleMarker at 0x7fea2bda97f0>,\n",
       " <folium.vector_layers.CircleMarker at 0x7fea2bda9a58>,\n",
       " <folium.vector_layers.CircleMarker at 0x7fea2bdac940>,\n",
       " <folium.vector_layers.CircleMarker at 0x7fea2bdac828>,\n",
       " <folium.vector_layers.CircleMarker at 0x7fea2bdac8d0>,\n",
       " <folium.vector_layers.CircleMarker at 0x7fea2bcd8ba8>,\n",
       " <folium.vector_layers.CircleMarker at 0x7fea2bcd8ac8>,\n",
       " <folium.vector_layers.CircleMarker at 0x7fea2bcd8208>,\n",
       " <folium.vector_layers.CircleMarker at 0x7fea2bcd82b0>,\n",
       " <folium.vector_layers.CircleMarker at 0x7fea2bcd8358>,\n",
       " <folium.vector_layers.CircleMarker at 0x7fea2bcd82e8>,\n",
       " <folium.vector_layers.CircleMarker at 0x7fea2bcd8b70>,\n",
       " <folium.vector_layers.CircleMarker at 0x7fea2bcd8da0>,\n",
       " <folium.vector_layers.CircleMarker at 0x7fea2bcd8dd8>,\n",
       " <folium.vector_layers.CircleMarker at 0x7fea2bcd8e80>,\n",
       " <folium.vector_layers.CircleMarker at 0x7fea2bcd8f28>,\n",
       " <folium.vector_layers.CircleMarker at 0x7fea2bcd8fd0>,\n",
       " <folium.vector_layers.CircleMarker at 0x7fea2bcd8eb8>,\n",
       " <folium.vector_layers.CircleMarker at 0x7fea2bd6d0f0>,\n",
       " <folium.vector_layers.CircleMarker at 0x7fea2bcd8c88>,\n",
       " <folium.vector_layers.CircleMarker at 0x7fea2bcd8ef0>,\n",
       " <folium.vector_layers.CircleMarker at 0x7fea2bcd8940>,\n",
       " <folium.vector_layers.CircleMarker at 0x7fea2bcd8cc0>,\n",
       " <folium.vector_layers.CircleMarker at 0x7fea2bcd8470>,\n",
       " <folium.vector_layers.CircleMarker at 0x7fea2bcd8898>,\n",
       " <folium.vector_layers.CircleMarker at 0x7fea2bcd8390>,\n",
       " <folium.vector_layers.CircleMarker at 0x7fea2bdbb518>,\n",
       " <folium.vector_layers.CircleMarker at 0x7fea2bcd8668>,\n",
       " <folium.vector_layers.CircleMarker at 0x7fea2bdb1710>,\n",
       " <folium.vector_layers.CircleMarker at 0x7fea2bdaca20>,\n",
       " <folium.vector_layers.CircleMarker at 0x7fea2bdacef0>,\n",
       " <folium.vector_layers.CircleMarker at 0x7fea2bda9cc0>,\n",
       " <folium.vector_layers.CircleMarker at 0x7fea2bd6d080>,\n",
       " <folium.vector_layers.CircleMarker at 0x7fea2bd6d240>,\n",
       " <folium.vector_layers.CircleMarker at 0x7fea2bd6d320>,\n",
       " <folium.vector_layers.CircleMarker at 0x7fea2bd6d358>,\n",
       " <folium.vector_layers.CircleMarker at 0x7fea2bd6d400>,\n",
       " <folium.vector_layers.CircleMarker at 0x7fea2bd6d4a8>,\n",
       " <folium.vector_layers.CircleMarker at 0x7fea2bd6d550>,\n",
       " <folium.vector_layers.CircleMarker at 0x7fea2bd6d5f8>,\n",
       " <folium.vector_layers.CircleMarker at 0x7fea2bd6d6a0>,\n",
       " <folium.vector_layers.CircleMarker at 0x7fea2bda9a90>,\n",
       " <folium.vector_layers.CircleMarker at 0x7fea2bcc6518>,\n",
       " <folium.vector_layers.CircleMarker at 0x7fea2bdaceb8>,\n",
       " <folium.vector_layers.CircleMarker at 0x7fea2bcd89b0>,\n",
       " <folium.vector_layers.CircleMarker at 0x7fea2bcd8a90>,\n",
       " <folium.vector_layers.CircleMarker at 0x7fea2bcd85f8>,\n",
       " <folium.vector_layers.CircleMarker at 0x7fea2bcd8080>,\n",
       " <folium.vector_layers.CircleMarker at 0x7fea2bcd8e10>,\n",
       " <folium.vector_layers.CircleMarker at 0x7fea2bcd8f98>,\n",
       " <folium.vector_layers.CircleMarker at 0x7fea2bd6d390>,\n",
       " <folium.vector_layers.CircleMarker at 0x7fea2bd6d0b8>,\n",
       " <folium.vector_layers.CircleMarker at 0x7fea2bd6d128>,\n",
       " <folium.vector_layers.CircleMarker at 0x7fea2bd6d208>,\n",
       " <folium.vector_layers.CircleMarker at 0x7fea2bd6d748>,\n",
       " <folium.vector_layers.CircleMarker at 0x7fea2bd6d630>,\n",
       " <folium.vector_layers.CircleMarker at 0x7fea2bd6d860>,\n",
       " <folium.vector_layers.CircleMarker at 0x7fea2bd6d898>,\n",
       " <folium.vector_layers.CircleMarker at 0x7fea2bd6d940>,\n",
       " <folium.vector_layers.CircleMarker at 0x7fea2bd6d9e8>,\n",
       " <folium.vector_layers.CircleMarker at 0x7fea2bd6da90>,\n",
       " <folium.vector_layers.CircleMarker at 0x7fea2bd6db38>,\n",
       " <folium.vector_layers.CircleMarker at 0x7fea2bd6dbe0>,\n",
       " <folium.vector_layers.CircleMarker at 0x7fea2bcd80b8>,\n",
       " <folium.vector_layers.CircleMarker at 0x7fea2bdf8898>,\n",
       " <folium.vector_layers.CircleMarker at 0x7fea2bcd8a20>,\n",
       " <folium.vector_layers.CircleMarker at 0x7fea2bcd8d30>,\n",
       " <folium.vector_layers.CircleMarker at 0x7fea2bdacb00>,\n",
       " <folium.vector_layers.CircleMarker at 0x7fea2bd6da20>,\n",
       " <folium.vector_layers.CircleMarker at 0x7fea2bd6da58>,\n",
       " <folium.vector_layers.CircleMarker at 0x7fea2bd6d908>,\n",
       " <folium.vector_layers.CircleMarker at 0x7fea2bd6d048>,\n",
       " <folium.vector_layers.CircleMarker at 0x7fea2bd6d780>,\n",
       " <folium.vector_layers.CircleMarker at 0x7fea2bd6d518>,\n",
       " <folium.vector_layers.CircleMarker at 0x7fea2bd6d278>,\n",
       " <folium.vector_layers.CircleMarker at 0x7fea2bd6d438>,\n",
       " <folium.vector_layers.CircleMarker at 0x7fea2bd6dc88>,\n",
       " <folium.vector_layers.CircleMarker at 0x7fea2bd6db70>,\n",
       " <folium.vector_layers.CircleMarker at 0x7fea2bd6dda0>,\n",
       " <folium.vector_layers.CircleMarker at 0x7fea2bd6ddd8>,\n",
       " <folium.vector_layers.CircleMarker at 0x7fea2bd6de80>,\n",
       " <folium.vector_layers.CircleMarker at 0x7fea2bd6df28>,\n",
       " <folium.vector_layers.CircleMarker at 0x7fea2bd6dfd0>,\n",
       " <folium.vector_layers.CircleMarker at 0x7fea2bd6deb8>,\n",
       " <folium.vector_layers.CircleMarker at 0x7fea2bce80f0>,\n",
       " <folium.vector_layers.CircleMarker at 0x7fea2bd6d978>,\n",
       " <folium.vector_layers.CircleMarker at 0x7fea2bd6def0>,\n",
       " <folium.vector_layers.CircleMarker at 0x7fea2bd6d4e0>,\n",
       " <folium.vector_layers.CircleMarker at 0x7fea2bd6dcc0>,\n",
       " <folium.vector_layers.CircleMarker at 0x7fea2bd6d3c8>,\n",
       " <folium.vector_layers.CircleMarker at 0x7fea2bd6d5c0>,\n",
       " <folium.vector_layers.CircleMarker at 0x7fea2bd6d6d8>,\n",
       " <folium.vector_layers.CircleMarker at 0x7fea2bda9438>,\n",
       " <folium.vector_layers.CircleMarker at 0x7fea2bd6d7b8>,\n",
       " <folium.vector_layers.CircleMarker at 0x7fea2bdacc18>,\n",
       " <folium.vector_layers.CircleMarker at 0x7fea2bd6d668>,\n",
       " <folium.vector_layers.CircleMarker at 0x7fea2bcd8c18>,\n",
       " <folium.vector_layers.CircleMarker at 0x7fea2bcd8d68>,\n",
       " <folium.vector_layers.CircleMarker at 0x7fea2bce80b8>,\n",
       " <folium.vector_layers.CircleMarker at 0x7fea2bce8240>,\n",
       " <folium.vector_layers.CircleMarker at 0x7fea2bce8320>,\n",
       " <folium.vector_layers.CircleMarker at 0x7fea2bce8358>,\n",
       " <folium.vector_layers.CircleMarker at 0x7fea2bce8400>,\n",
       " <folium.vector_layers.CircleMarker at 0x7fea2bce84a8>,\n",
       " <folium.vector_layers.CircleMarker at 0x7fea2bce8550>,\n",
       " <folium.vector_layers.CircleMarker at 0x7fea2bce85f8>,\n",
       " <folium.vector_layers.CircleMarker at 0x7fea2bce86a0>,\n",
       " <folium.vector_layers.CircleMarker at 0x7fea2bcd8588>,\n",
       " <folium.vector_layers.CircleMarker at 0x7fea2bdacbe0>,\n",
       " <folium.vector_layers.CircleMarker at 0x7fea2bd6db00>,\n",
       " <folium.vector_layers.CircleMarker at 0x7fea2bd6d2b0>,\n",
       " <folium.vector_layers.CircleMarker at 0x7fea2bd6d828>,\n",
       " <folium.vector_layers.CircleMarker at 0x7fea2bd6df98>,\n",
       " <folium.vector_layers.CircleMarker at 0x7fea2bd6de48>,\n",
       " <folium.vector_layers.CircleMarker at 0x7fea2bd6df60>,\n",
       " <folium.vector_layers.CircleMarker at 0x7fea2bd6d470>,\n",
       " <folium.vector_layers.CircleMarker at 0x7fea2bce8390>,\n",
       " <folium.vector_layers.CircleMarker at 0x7fea2bce8080>,\n",
       " <folium.vector_layers.CircleMarker at 0x7fea2bce81d0>,\n",
       " <folium.vector_layers.CircleMarker at 0x7fea2bce8208>,\n",
       " <folium.vector_layers.CircleMarker at 0x7fea2bce8710>,\n",
       " <folium.vector_layers.CircleMarker at 0x7fea2bce87b8>,\n",
       " <folium.vector_layers.CircleMarker at 0x7fea2bce87f0>,\n",
       " <folium.vector_layers.CircleMarker at 0x7fea2bce86d8>,\n",
       " <folium.vector_layers.CircleMarker at 0x7fea2bce88d0>,\n",
       " <folium.vector_layers.CircleMarker at 0x7fea2bce8978>,\n",
       " <folium.vector_layers.CircleMarker at 0x7fea2bce8a20>,\n",
       " <folium.vector_layers.CircleMarker at 0x7fea2bce8ac8>,\n",
       " <folium.vector_layers.CircleMarker at 0x7fea2bd6dc18>,\n",
       " <folium.vector_layers.CircleMarker at 0x7fea2bdacd68>,\n",
       " <folium.vector_layers.CircleMarker at 0x7fea2bcd8908>,\n",
       " <folium.vector_layers.CircleMarker at 0x7fea2bd6dac8>,\n",
       " <folium.vector_layers.CircleMarker at 0x7fea2bd6d2e8>,\n",
       " <folium.vector_layers.CircleMarker at 0x7fea2bd6d8d0>,\n",
       " <folium.vector_layers.CircleMarker at 0x7fea2bce8908>,\n",
       " <folium.vector_layers.CircleMarker at 0x7fea2bce8940>,\n",
       " <folium.vector_layers.CircleMarker at 0x7fea2bce8860>,\n",
       " <folium.vector_layers.CircleMarker at 0x7fea2bce82e8>,\n",
       " <folium.vector_layers.CircleMarker at 0x7fea2bce8160>,\n",
       " <folium.vector_layers.CircleMarker at 0x7fea2bce85c0>,\n",
       " <folium.vector_layers.CircleMarker at 0x7fea2bce8128>,\n",
       " <folium.vector_layers.CircleMarker at 0x7fea2bce8b70>,\n",
       " <folium.vector_layers.CircleMarker at 0x7fea2bce8a58>,\n",
       " <folium.vector_layers.CircleMarker at 0x7fea2bce8c88>,\n",
       " <folium.vector_layers.CircleMarker at 0x7fea2bce8cc0>,\n",
       " <folium.vector_layers.CircleMarker at 0x7fea2bce8d68>,\n",
       " <folium.vector_layers.CircleMarker at 0x7fea2bce8e10>,\n",
       " <folium.vector_layers.CircleMarker at 0x7fea2bce8eb8>,\n",
       " <folium.vector_layers.CircleMarker at 0x7fea2bce8f60>,\n",
       " <folium.vector_layers.CircleMarker at 0x7fea2bce8ef0>,\n",
       " <folium.vector_layers.CircleMarker at 0x7fea2bd6dba8>,\n",
       " <folium.vector_layers.CircleMarker at 0x7fea2bd6dd68>,\n",
       " <folium.vector_layers.CircleMarker at 0x7fea2bd6dc50>,\n",
       " <folium.vector_layers.CircleMarker at 0x7fea2bdf8ba8>,\n",
       " <folium.vector_layers.CircleMarker at 0x7fea2bdb1da0>,\n",
       " <folium.vector_layers.CircleMarker at 0x7fea2bd6d710>,\n",
       " <folium.vector_layers.CircleMarker at 0x7fea2bda96a0>,\n",
       " <folium.vector_layers.CircleMarker at 0x7fea2bcd8b38>,\n",
       " <folium.vector_layers.CircleMarker at 0x7fea2bcd8cf8>,\n",
       " <folium.vector_layers.CircleMarker at 0x7fea2bce8cf8>,\n",
       " <folium.vector_layers.CircleMarker at 0x7fea2bce8c18>,\n",
       " <folium.vector_layers.CircleMarker at 0x7fea2bce8668>,\n",
       " <folium.vector_layers.CircleMarker at 0x7fea2bce8278>,\n",
       " <folium.vector_layers.CircleMarker at 0x7fea2bce84e0>,\n",
       " <folium.vector_layers.CircleMarker at 0x7fea2bce8048>,\n",
       " <folium.vector_layers.CircleMarker at 0x7fea2bce83c8>,\n",
       " <folium.vector_layers.CircleMarker at 0x7fea2bce8588>,\n",
       " <folium.vector_layers.CircleMarker at 0x7fea2bce8a90>,\n",
       " <folium.vector_layers.CircleMarker at 0x7fea2bce8f98>,\n",
       " <folium.vector_layers.CircleMarker at 0x7fea2bce8898>,\n",
       " <folium.vector_layers.CircleMarker at 0x7fea2bcfa160>,\n",
       " <folium.vector_layers.CircleMarker at 0x7fea2bcfa0b8>,\n",
       " <folium.vector_layers.CircleMarker at 0x7fea2bce8fd0>,\n",
       " <folium.vector_layers.CircleMarker at 0x7fea2bce8b38>,\n",
       " <folium.vector_layers.CircleMarker at 0x7fea2bce8780>,\n",
       " <folium.vector_layers.CircleMarker at 0x7fea2bce8d30>,\n",
       " <folium.vector_layers.CircleMarker at 0x7fea2bda9ef0>,\n",
       " <folium.vector_layers.CircleMarker at 0x7fea2bce8be0>,\n",
       " <folium.vector_layers.CircleMarker at 0x7fea2bcc6cc0>,\n",
       " <folium.vector_layers.CircleMarker at 0x7fea2bce8e48>,\n",
       " <folium.vector_layers.CircleMarker at 0x7fea2bce8518>,\n",
       " <folium.vector_layers.CircleMarker at 0x7fea2bcd8710>,\n",
       " <folium.vector_layers.CircleMarker at 0x7fea2bd6d9b0>,\n",
       " <folium.vector_layers.CircleMarker at 0x7fea2bd6d588>,\n",
       " <folium.vector_layers.CircleMarker at 0x7fea2bd6de10>,\n",
       " <folium.vector_layers.CircleMarker at 0x7fea2bcfa1d0>,\n",
       " <folium.vector_layers.CircleMarker at 0x7fea2bcfa198>,\n",
       " <folium.vector_layers.CircleMarker at 0x7fea2bcfa3c8>,\n",
       " <folium.vector_layers.CircleMarker at 0x7fea2bcfa400>,\n",
       " <folium.vector_layers.CircleMarker at 0x7fea2bcfa4a8>,\n",
       " <folium.vector_layers.CircleMarker at 0x7fea2bcfa550>,\n",
       " <folium.vector_layers.CircleMarker at 0x7fea2bcfa5f8>,\n",
       " <folium.vector_layers.CircleMarker at 0x7fea2bcfa6a0>,\n",
       " <folium.vector_layers.CircleMarker at 0x7fea2bcfa748>,\n",
       " <folium.vector_layers.CircleMarker at 0x7fea2bcd8e48>,\n",
       " <folium.vector_layers.CircleMarker at 0x7fea2bdacd30>,\n",
       " <folium.vector_layers.CircleMarker at 0x7fea2bd6d1d0>,\n",
       " <folium.vector_layers.CircleMarker at 0x7fea2bce8dd8>,\n",
       " <folium.vector_layers.CircleMarker at 0x7fea2bce89b0>,\n",
       " <folium.vector_layers.CircleMarker at 0x7fea2bce8438>,\n",
       " <folium.vector_layers.CircleMarker at 0x7fea2bce89e8>,\n",
       " <folium.vector_layers.CircleMarker at 0x7fea2bce8748>,\n",
       " <folium.vector_layers.CircleMarker at 0x7fea2bcfa588>,\n",
       " <folium.vector_layers.CircleMarker at 0x7fea2bcfa5c0>,\n",
       " <folium.vector_layers.CircleMarker at 0x7fea2bcfa470>,\n",
       " <folium.vector_layers.CircleMarker at 0x7fea2bcfa208>,\n",
       " <folium.vector_layers.CircleMarker at 0x7fea2bcfa048>,\n",
       " <folium.vector_layers.CircleMarker at 0x7fea2bcfa7f0>,\n",
       " <folium.vector_layers.CircleMarker at 0x7fea2bcfa6d8>,\n",
       " <folium.vector_layers.CircleMarker at 0x7fea2bcfa908>,\n",
       " <folium.vector_layers.CircleMarker at 0x7fea2bcfa940>,\n",
       " <folium.vector_layers.CircleMarker at 0x7fea2bcfa9e8>,\n",
       " <folium.vector_layers.CircleMarker at 0x7fea2bcfaa90>,\n",
       " <folium.vector_layers.CircleMarker at 0x7fea2bcfab38>,\n",
       " <folium.vector_layers.CircleMarker at 0x7fea2bcfabe0>,\n",
       " <folium.vector_layers.CircleMarker at 0x7fea2bcfac88>,\n",
       " <folium.vector_layers.CircleMarker at 0x7fea2bd6d160>,\n",
       " <folium.vector_layers.CircleMarker at 0x7fea2bda92b0>,\n",
       " <folium.vector_layers.CircleMarker at 0x7fea2bce8f28>,\n",
       " <folium.vector_layers.CircleMarker at 0x7fea2bce8b00>,\n",
       " <folium.vector_layers.CircleMarker at 0x7fea2bce8ba8>,\n",
       " <folium.vector_layers.CircleMarker at 0x7fea2bcfaac8>,\n",
       " <folium.vector_layers.CircleMarker at 0x7fea2bcfab00>,\n",
       " <folium.vector_layers.CircleMarker at 0x7fea2bcfa9b0>,\n",
       " <folium.vector_layers.CircleMarker at 0x7fea2bcfa320>,\n",
       " <folium.vector_layers.CircleMarker at 0x7fea2bcfa828>,\n",
       " <folium.vector_layers.CircleMarker at 0x7fea2bcfa240>,\n",
       " <folium.vector_layers.CircleMarker at 0x7fea2bcfa080>,\n",
       " <folium.vector_layers.CircleMarker at 0x7fea2bcfa668>,\n",
       " <folium.vector_layers.CircleMarker at 0x7fea2bcfad30>,\n",
       " <folium.vector_layers.CircleMarker at 0x7fea2bcfac18>,\n",
       " <folium.vector_layers.CircleMarker at 0x7fea2bcfae48>,\n",
       " <folium.vector_layers.CircleMarker at 0x7fea2bcfae80>,\n",
       " <folium.vector_layers.CircleMarker at 0x7fea2bcfaf28>,\n",
       " <folium.vector_layers.CircleMarker at 0x7fea2bcfafd0>,\n",
       " <folium.vector_layers.CircleMarker at 0x7fea2bcfaeb8>,\n",
       " <folium.vector_layers.CircleMarker at 0x7fea2bc8d128>,\n",
       " <folium.vector_layers.CircleMarker at 0x7fea2bc8d208>,\n",
       " <folium.vector_layers.CircleMarker at 0x7fea2bcfaa20>,\n",
       " <folium.vector_layers.CircleMarker at 0x7fea2bcfaef0>,\n",
       " <folium.vector_layers.CircleMarker at 0x7fea2bcfa358>,\n",
       " <folium.vector_layers.CircleMarker at 0x7fea2bcfab70>,\n",
       " <folium.vector_layers.CircleMarker at 0x7fea2bcfa8d0>,\n",
       " <folium.vector_layers.CircleMarker at 0x7fea2bcfa630>,\n",
       " <folium.vector_layers.CircleMarker at 0x7fea2bcfa978>,\n",
       " <folium.vector_layers.CircleMarker at 0x7fea2bcfaa58>,\n",
       " <folium.vector_layers.CircleMarker at 0x7fea2bcd8c50>,\n",
       " <folium.vector_layers.CircleMarker at 0x7fea2bcfae10>,\n",
       " <folium.vector_layers.CircleMarker at 0x7fea2bd6dcf8>,\n",
       " <folium.vector_layers.CircleMarker at 0x7fea2bce8c50>,\n",
       " <folium.vector_layers.CircleMarker at 0x7fea2bce8e80>,\n",
       " <folium.vector_layers.CircleMarker at 0x7fea2bc8d0f0>,\n",
       " <folium.vector_layers.CircleMarker at 0x7fea2bc8d160>,\n",
       " <folium.vector_layers.CircleMarker at 0x7fea2bc8d3c8>,\n",
       " <folium.vector_layers.CircleMarker at 0x7fea2bc8d400>,\n",
       " <folium.vector_layers.CircleMarker at 0x7fea2bc8d4a8>,\n",
       " <folium.vector_layers.CircleMarker at 0x7fea2bc8d550>,\n",
       " <folium.vector_layers.CircleMarker at 0x7fea2bc8d5f8>,\n",
       " <folium.vector_layers.CircleMarker at 0x7fea2bc8d6a0>,\n",
       " <folium.vector_layers.CircleMarker at 0x7fea2bc8d748>,\n",
       " <folium.vector_layers.CircleMarker at 0x7fea2bcd8f60>,\n",
       " <folium.vector_layers.CircleMarker at 0x7fea2bce8470>,\n",
       " <folium.vector_layers.CircleMarker at 0x7fea2bcfa780>,\n",
       " <folium.vector_layers.CircleMarker at 0x7fea2bcfa390>,\n",
       " <folium.vector_layers.CircleMarker at 0x7fea2bcfada0>,\n",
       " <folium.vector_layers.CircleMarker at 0x7fea2bcfa2e8>,\n",
       " <folium.vector_layers.CircleMarker at 0x7fea2bcfadd8>,\n",
       " <folium.vector_layers.CircleMarker at 0x7fea2bcfa710>,\n",
       " <folium.vector_layers.CircleMarker at 0x7fea2bc8d668>,\n",
       " <folium.vector_layers.CircleMarker at 0x7fea2bc8d518>,\n",
       " <folium.vector_layers.CircleMarker at 0x7fea2bc8d2b0>,\n",
       " <folium.vector_layers.CircleMarker at 0x7fea2bc8d390>,\n",
       " <folium.vector_layers.CircleMarker at 0x7fea2bc8d0b8>,\n",
       " <folium.vector_layers.CircleMarker at 0x7fea2bc8d7f0>,\n",
       " <folium.vector_layers.CircleMarker at 0x7fea2bc8d6d8>,\n",
       " <folium.vector_layers.CircleMarker at 0x7fea2bc8d908>,\n",
       " <folium.vector_layers.CircleMarker at 0x7fea2bc8d940>,\n",
       " <folium.vector_layers.CircleMarker at 0x7fea2bc8d9e8>,\n",
       " <folium.vector_layers.CircleMarker at 0x7fea2bc8da90>,\n",
       " <folium.vector_layers.CircleMarker at 0x7fea2bc8db38>,\n",
       " <folium.vector_layers.CircleMarker at 0x7fea2bc8dbe0>,\n",
       " <folium.vector_layers.CircleMarker at 0x7fea2bc8dc88>,\n",
       " <folium.vector_layers.CircleMarker at 0x7fea2bcfac50>,\n",
       " <folium.vector_layers.CircleMarker at 0x7fea2bd6d198>,\n",
       " <folium.vector_layers.CircleMarker at 0x7fea2bcfa860>,\n",
       " <folium.vector_layers.CircleMarker at 0x7fea2bce8da0>,\n",
       " <folium.vector_layers.CircleMarker at 0x7fea2bcfa128>,\n",
       " <folium.vector_layers.CircleMarker at 0x7fea2bc8dac8>,\n",
       " <folium.vector_layers.CircleMarker at 0x7fea2bc8db00>,\n",
       " <folium.vector_layers.CircleMarker at 0x7fea2bc8d9b0>,\n",
       " <folium.vector_layers.CircleMarker at 0x7fea2bc8d1d0>,\n",
       " <folium.vector_layers.CircleMarker at 0x7fea2bc8d828>,\n",
       " <folium.vector_layers.CircleMarker at 0x7fea2bc8d358>,\n",
       " <folium.vector_layers.CircleMarker at 0x7fea2bc8d048>,\n",
       " <folium.vector_layers.CircleMarker at 0x7fea2bc8d240>,\n",
       " <folium.vector_layers.CircleMarker at 0x7fea2bc8d7b8>,\n",
       " <folium.vector_layers.CircleMarker at 0x7fea2bc8dda0>,\n",
       " <folium.vector_layers.CircleMarker at 0x7fea2bc8ddd8>,\n",
       " <folium.vector_layers.CircleMarker at 0x7fea2bc8dcc0>,\n",
       " <folium.vector_layers.CircleMarker at 0x7fea2bc8deb8>,\n",
       " <folium.vector_layers.CircleMarker at 0x7fea2bc8df60>,\n",
       " <folium.vector_layers.CircleMarker at 0x7fea2bc8def0>,\n",
       " <folium.vector_layers.CircleMarker at 0x7fea2bca1048>,\n",
       " <folium.vector_layers.CircleMarker at 0x7fea2bce8828>,\n",
       " <folium.vector_layers.CircleMarker at 0x7fea2bcfaba8>,\n",
       " <folium.vector_layers.CircleMarker at 0x7fea2bcfa4e0>,\n",
       " <folium.vector_layers.CircleMarker at 0x7fea2bcfa898>,\n",
       " <folium.vector_layers.CircleMarker at 0x7fea2bc8dfd0>,\n",
       " <folium.vector_layers.CircleMarker at 0x7fea2bc8de80>,\n",
       " <folium.vector_layers.CircleMarker at 0x7fea2bc8d5c0>,\n",
       " <folium.vector_layers.CircleMarker at 0x7fea2bc8dd30>,\n",
       " <folium.vector_layers.CircleMarker at 0x7fea2bc8d080>,\n",
       " <folium.vector_layers.CircleMarker at 0x7fea2bc8d438>,\n",
       " <folium.vector_layers.CircleMarker at 0x7fea2bc8d780>,\n",
       " <folium.vector_layers.CircleMarker at 0x7fea2bc8d198>,\n",
       " <folium.vector_layers.CircleMarker at 0x7fea2bc8dba8>,\n",
       " <folium.vector_layers.CircleMarker at 0x7fea2bc8d898>,\n",
       " <folium.vector_layers.CircleMarker at 0x7fea2bca1128>,\n",
       " <folium.vector_layers.CircleMarker at 0x7fea2bca1278>,\n",
       " <folium.vector_layers.CircleMarker at 0x7fea2bca12e8>,\n",
       " <folium.vector_layers.CircleMarker at 0x7fea2bca1390>,\n",
       " <folium.vector_layers.CircleMarker at 0x7fea2bca1438>,\n",
       " <folium.vector_layers.CircleMarker at 0x7fea2bca14e0>,\n",
       " <folium.vector_layers.CircleMarker at 0x7fea2bca1588>,\n",
       " <folium.vector_layers.CircleMarker at 0x7fea2bca1630>,\n",
       " <folium.vector_layers.CircleMarker at 0x7fea2bc8df98>,\n",
       " <folium.vector_layers.CircleMarker at 0x7fea2bc8da58>,\n",
       " <folium.vector_layers.CircleMarker at 0x7fea2bc8dc18>,\n",
       " <folium.vector_layers.CircleMarker at 0x7fea2bc8d710>,\n",
       " <folium.vector_layers.CircleMarker at 0x7fea2bc8d588>,\n",
       " <folium.vector_layers.CircleMarker at 0x7fea2bce8630>,\n",
       " <folium.vector_layers.CircleMarker at 0x7fea2bc8d630>,\n",
       " <folium.vector_layers.CircleMarker at 0x7fea2bcfa2b0>,\n",
       " <folium.vector_layers.CircleMarker at 0x7fea2bcfad68>,\n",
       " <folium.vector_layers.CircleMarker at 0x7fea2bca1470>,\n",
       " <folium.vector_layers.CircleMarker at 0x7fea2bca14a8>,\n",
       " <folium.vector_layers.CircleMarker at 0x7fea2bca1358>,\n",
       " <folium.vector_layers.CircleMarker at 0x7fea2bca11d0>,\n",
       " <folium.vector_layers.CircleMarker at 0x7fea2bca16d8>,\n",
       " <folium.vector_layers.CircleMarker at 0x7fea2bca15c0>,\n",
       " <folium.vector_layers.CircleMarker at 0x7fea2bca17f0>,\n",
       " <folium.vector_layers.CircleMarker at 0x7fea2bca1828>,\n",
       " <folium.vector_layers.CircleMarker at 0x7fea2bca18d0>,\n",
       " <folium.vector_layers.CircleMarker at 0x7fea2bca1978>,\n",
       " <folium.vector_layers.CircleMarker at 0x7fea2bca1a20>,\n",
       " <folium.vector_layers.CircleMarker at 0x7fea2bca1ac8>,\n",
       " <folium.vector_layers.CircleMarker at 0x7fea2bca1b70>,\n",
       " <folium.vector_layers.CircleMarker at 0x7fea2bcfa518>,\n",
       " <folium.vector_layers.CircleMarker at 0x7fea2bc8da20>,\n",
       " <folium.vector_layers.CircleMarker at 0x7fea2bc8d8d0>,\n",
       " <folium.vector_layers.CircleMarker at 0x7fea2bc8db70>,\n",
       " <folium.vector_layers.CircleMarker at 0x7fea2bc8d860>,\n",
       " <folium.vector_layers.CircleMarker at 0x7fea2bc8d320>,\n",
       " <folium.vector_layers.CircleMarker at 0x7fea2bca1a90>,\n",
       " <folium.vector_layers.CircleMarker at 0x7fea2bca1940>,\n",
       " <folium.vector_layers.CircleMarker at 0x7fea2bca1748>,\n",
       " <folium.vector_layers.CircleMarker at 0x7fea2bca17b8>,\n",
       " <folium.vector_layers.CircleMarker at 0x7fea2bca12b0>,\n",
       " <folium.vector_layers.CircleMarker at 0x7fea2bca10b8>,\n",
       " <folium.vector_layers.CircleMarker at 0x7fea2bca1550>,\n",
       " <folium.vector_layers.CircleMarker at 0x7fea2bca1c18>,\n",
       " <folium.vector_layers.CircleMarker at 0x7fea2bca1b00>,\n",
       " <folium.vector_layers.CircleMarker at 0x7fea2bca1d30>,\n",
       " <folium.vector_layers.CircleMarker at 0x7fea2bca1d68>,\n",
       " <folium.vector_layers.CircleMarker at 0x7fea2bca1e10>,\n",
       " <folium.vector_layers.CircleMarker at 0x7fea2bca1eb8>,\n",
       " <folium.vector_layers.CircleMarker at 0x7fea2bca1f60>,\n",
       " <folium.vector_layers.CircleMarker at 0x7fea2bca1ef0>,\n",
       " <folium.vector_layers.CircleMarker at 0x7fea2bcb4048>,\n",
       " <folium.vector_layers.CircleMarker at 0x7fea2bca19b0>,\n",
       " <folium.vector_layers.CircleMarker at 0x7fea2bca1f28>,\n",
       " <folium.vector_layers.CircleMarker at 0x7fea2bca1c88>,\n",
       " <folium.vector_layers.CircleMarker at 0x7fea2bca1cf8>,\n",
       " <folium.vector_layers.CircleMarker at 0x7fea2bca1518>,\n",
       " <folium.vector_layers.CircleMarker at 0x7fea2bca1400>,\n",
       " <folium.vector_layers.CircleMarker at 0x7fea2bca1780>,\n",
       " <folium.vector_layers.CircleMarker at 0x7fea2bca1198>,\n",
       " <folium.vector_layers.CircleMarker at 0x7fea2bca1898>,\n",
       " <folium.vector_layers.CircleMarker at 0x7fea2bca19e8>,\n",
       " <folium.vector_layers.CircleMarker at 0x7fea2bca1668>,\n",
       " <folium.vector_layers.CircleMarker at 0x7fea2bc8df28>,\n",
       " <folium.vector_layers.CircleMarker at 0x7fea2bcfacc0>,\n",
       " <folium.vector_layers.CircleMarker at 0x7fea2bc8d470>,\n",
       " <folium.vector_layers.CircleMarker at 0x7fea2bc8d978>,\n",
       " <folium.vector_layers.CircleMarker at 0x7fea2bcb4208>,\n",
       " <folium.vector_layers.CircleMarker at 0x7fea2bcb40f0>,\n",
       " <folium.vector_layers.CircleMarker at 0x7fea2bcb4320>,\n",
       " <folium.vector_layers.CircleMarker at 0x7fea2bcb43c8>,\n",
       " <folium.vector_layers.CircleMarker at 0x7fea2bcb4470>,\n",
       " <folium.vector_layers.CircleMarker at 0x7fea2bcb4518>,\n",
       " <folium.vector_layers.CircleMarker at 0x7fea2bcb45c0>,\n",
       " <folium.vector_layers.CircleMarker at 0x7fea2bcc60b8>,\n",
       " <folium.vector_layers.CircleMarker at 0x7fea2bc8d2e8>,\n",
       " <folium.vector_layers.CircleMarker at 0x7fea2bc8de10>,\n",
       " <folium.vector_layers.CircleMarker at 0x7fea2bca1b38>,\n",
       " <folium.vector_layers.CircleMarker at 0x7fea2bca1240>,\n",
       " <folium.vector_layers.CircleMarker at 0x7fea2bca1208>,\n",
       " <folium.vector_layers.CircleMarker at 0x7fea2bca1fd0>,\n",
       " <folium.vector_layers.CircleMarker at 0x7fea2bca1e80>,\n",
       " <folium.vector_layers.CircleMarker at 0x7fea2bca15f8>,\n",
       " <folium.vector_layers.CircleMarker at 0x7fea2bcb4400>,\n",
       " <folium.vector_layers.CircleMarker at 0x7fea2bcb4438>,\n",
       " <folium.vector_layers.CircleMarker at 0x7fea2bcb42e8>,\n",
       " <folium.vector_layers.CircleMarker at 0x7fea2bcb41d0>,\n",
       " <folium.vector_layers.CircleMarker at 0x7fea2bcb4668>,\n",
       " <folium.vector_layers.CircleMarker at 0x7fea2bcb4550>,\n",
       " <folium.vector_layers.CircleMarker at 0x7fea2bcb4780>,\n",
       " <folium.vector_layers.CircleMarker at 0x7fea2bcb47b8>,\n",
       " <folium.vector_layers.CircleMarker at 0x7fea2bcb4860>,\n",
       " <folium.vector_layers.CircleMarker at 0x7fea2bcb4908>,\n",
       " <folium.vector_layers.CircleMarker at 0x7fea2bcb49b0>,\n",
       " <folium.vector_layers.CircleMarker at 0x7fea2bcb4a58>,\n",
       " <folium.vector_layers.CircleMarker at 0x7fea2bcb4b00>,\n",
       " <folium.vector_layers.CircleMarker at 0x7fea2bca1da0>,\n",
       " <folium.vector_layers.CircleMarker at 0x7fea2bca1320>,\n",
       " <folium.vector_layers.CircleMarker at 0x7fea2bca13c8>,\n",
       " <folium.vector_layers.CircleMarker at 0x7fea2bca1dd8>,\n",
       " <folium.vector_layers.CircleMarker at 0x7fea2bca16a0>,\n",
       " <folium.vector_layers.CircleMarker at 0x7fea2bce82b0>,\n",
       " <folium.vector_layers.CircleMarker at 0x7fea2bca1908>,\n",
       " <folium.vector_layers.CircleMarker at 0x7fea2bc8dc50>,\n",
       " <folium.vector_layers.CircleMarker at 0x7fea2bc8dcf8>,\n",
       " <folium.vector_layers.CircleMarker at 0x7fea2bcfacf8>,\n",
       " <folium.vector_layers.CircleMarker at 0x7fea2bcfaf60>,\n",
       " <folium.vector_layers.CircleMarker at 0x7fea2bcb4940>,\n",
       " <folium.vector_layers.CircleMarker at 0x7fea2bcb4978>,\n",
       " <folium.vector_layers.CircleMarker at 0x7fea2bcb4828>,\n",
       " <folium.vector_layers.CircleMarker at 0x7fea2bcb40b8>,\n",
       " <folium.vector_layers.CircleMarker at 0x7fea2bcb46a0>,\n",
       " <folium.vector_layers.CircleMarker at 0x7fea2bcb4160>,\n",
       " <folium.vector_layers.CircleMarker at 0x7fea2bcb4390>,\n",
       " <folium.vector_layers.CircleMarker at 0x7fea2bcb4630>,\n",
       " <folium.vector_layers.CircleMarker at 0x7fea2bcb4ba8>,\n",
       " <folium.vector_layers.CircleMarker at 0x7fea2bcb4a90>,\n",
       " <folium.vector_layers.CircleMarker at 0x7fea2bcb4cc0>,\n",
       " <folium.vector_layers.CircleMarker at 0x7fea2bc8de48>,\n",
       " <folium.vector_layers.CircleMarker at 0x7fea2bc8dd68>,\n",
       " <folium.vector_layers.CircleMarker at 0x7fea2bcfaf98>,\n",
       " <folium.vector_layers.CircleMarker at 0x7fea2bca10f0>,\n",
       " <folium.vector_layers.CircleMarker at 0x7fea2bcc6278>,\n",
       " <folium.vector_layers.CircleMarker at 0x7fea2bca1c50>,\n",
       " <folium.vector_layers.CircleMarker at 0x7fea2bca1cc0>,\n",
       " <folium.vector_layers.CircleMarker at 0x7fea2bca1ba8>,\n",
       " <folium.vector_layers.CircleMarker at 0x7fea2bcb4278>,\n",
       " <folium.vector_layers.CircleMarker at 0x7fea2bcb4748>,\n",
       " <folium.vector_layers.CircleMarker at 0x7fea2bcb44a8>,\n",
       " <folium.vector_layers.CircleMarker at 0x7fea2bcb47f0>,\n",
       " <folium.vector_layers.CircleMarker at 0x7fea2bcb48d0>,\n",
       " <folium.vector_layers.CircleMarker at 0x7fea2bcb4b70>,\n",
       " <folium.vector_layers.CircleMarker at 0x7fea2bcb4d68>,\n",
       " <folium.vector_layers.CircleMarker at 0x7fea2bcb4da0>,\n",
       " <folium.vector_layers.CircleMarker at 0x7fea2bcb4b38>,\n",
       " <folium.vector_layers.CircleMarker at 0x7fea2bcb4e80>,\n",
       " <folium.vector_layers.CircleMarker at 0x7fea2bcb4f28>,\n",
       " <folium.vector_layers.CircleMarker at 0x7fea2bcb4fd0>,\n",
       " <folium.vector_layers.CircleMarker at 0x7fea2bcb4eb8>,\n",
       " <folium.vector_layers.CircleMarker at 0x7fea2bc47128>,\n",
       " <folium.vector_layers.CircleMarker at 0x7fea2bcb4c88>,\n",
       " <folium.vector_layers.CircleMarker at 0x7fea2bcb4ef0>,\n",
       " <folium.vector_layers.CircleMarker at 0x7fea2bcb4a20>,\n",
       " <folium.vector_layers.CircleMarker at 0x7fea2bcb4cf8>,\n",
       " <folium.vector_layers.CircleMarker at 0x7fea2bcb4198>,\n",
       " <folium.vector_layers.CircleMarker at 0x7fea2bcb42b0>,\n",
       " <folium.vector_layers.CircleMarker at 0x7fea2bcb4588>,\n",
       " <folium.vector_layers.CircleMarker at 0x7fea2bcb4080>,\n",
       " <folium.vector_layers.CircleMarker at 0x7fea2bcb4be0>,\n",
       " <folium.vector_layers.CircleMarker at 0x7fea2bcfa438>,\n",
       " <folium.vector_layers.CircleMarker at 0x7fea2bc8d278>,\n",
       " <folium.vector_layers.CircleMarker at 0x7fea2bca1f98>,\n",
       " <folium.vector_layers.CircleMarker at 0x7fea2bca1a58>,\n",
       " <folium.vector_layers.CircleMarker at 0x7fea2bc470b8>,\n",
       " <folium.vector_layers.CircleMarker at 0x7fea2bc47240>,\n",
       " <folium.vector_layers.CircleMarker at 0x7fea2bc47320>,\n",
       " <folium.vector_layers.CircleMarker at 0x7fea2bc47358>,\n",
       " <folium.vector_layers.CircleMarker at 0x7fea2bc47400>,\n",
       " <folium.vector_layers.CircleMarker at 0x7fea2bc474a8>,\n",
       " <folium.vector_layers.CircleMarker at 0x7fea2bc47550>,\n",
       " <folium.vector_layers.CircleMarker at 0x7fea2bc475f8>,\n",
       " <folium.vector_layers.CircleMarker at 0x7fea2bc476a0>,\n",
       " <folium.vector_layers.CircleMarker at 0x7fea2bd6dd30>,\n",
       " <folium.vector_layers.CircleMarker at 0x7fea2bcfa0f0>,\n",
       " <folium.vector_layers.CircleMarker at 0x7fea2bca1080>,\n",
       " <folium.vector_layers.CircleMarker at 0x7fea2bcb4240>,\n",
       " <folium.vector_layers.CircleMarker at 0x7fea2bcb46d8>,\n",
       " <folium.vector_layers.CircleMarker at 0x7fea2bcb4ac8>,\n",
       " <folium.vector_layers.CircleMarker at 0x7fea2bcb4c18>,\n",
       " <folium.vector_layers.CircleMarker at 0x7fea2bcb4898>,\n",
       " <folium.vector_layers.CircleMarker at 0x7fea2bcb4f98>,\n",
       " <folium.vector_layers.CircleMarker at 0x7fea2bc47390>,\n",
       " <folium.vector_layers.CircleMarker at 0x7fea2bc470f0>,\n",
       " <folium.vector_layers.CircleMarker at 0x7fea2bc47080>,\n",
       " <folium.vector_layers.CircleMarker at 0x7fea2bc47208>,\n",
       " <folium.vector_layers.CircleMarker at 0x7fea2bc47748>,\n",
       " <folium.vector_layers.CircleMarker at 0x7fea2bc47630>,\n",
       " <folium.vector_layers.CircleMarker at 0x7fea2bc47860>,\n",
       " <folium.vector_layers.CircleMarker at 0x7fea2bc47898>,\n",
       " <folium.vector_layers.CircleMarker at 0x7fea2bc47940>,\n",
       " <folium.vector_layers.CircleMarker at 0x7fea2bc479e8>,\n",
       " <folium.vector_layers.CircleMarker at 0x7fea2bc47a90>,\n",
       " <folium.vector_layers.CircleMarker at 0x7fea2bc47b38>,\n",
       " <folium.vector_layers.CircleMarker at 0x7fea2bc47be0>,\n",
       " <folium.vector_layers.CircleMarker at 0x7fea2bcfa278>,\n",
       " <folium.vector_layers.CircleMarker at 0x7fea2bc8d4e0>,\n",
       " <folium.vector_layers.CircleMarker at 0x7fea2bcb4d30>,\n",
       " <folium.vector_layers.CircleMarker at 0x7fea2bcb49e8>,\n",
       " <folium.vector_layers.CircleMarker at 0x7fea2bca1860>,\n",
       " <folium.vector_layers.CircleMarker at 0x7fea2bc47a20>,\n",
       " <folium.vector_layers.CircleMarker at 0x7fea2bc47a58>,\n",
       " <folium.vector_layers.CircleMarker at 0x7fea2bc47908>,\n",
       " <folium.vector_layers.CircleMarker at 0x7fea2bc47048>,\n",
       " <folium.vector_layers.CircleMarker at 0x7fea2bc47780>,\n",
       " <folium.vector_layers.CircleMarker at 0x7fea2bc47518>,\n",
       " <folium.vector_layers.CircleMarker at 0x7fea2bc47278>,\n",
       " <folium.vector_layers.CircleMarker at 0x7fea2bc47438>,\n",
       " <folium.vector_layers.CircleMarker at 0x7fea2bc47c88>,\n",
       " <folium.vector_layers.CircleMarker at 0x7fea2bc47b70>,\n",
       " <folium.vector_layers.CircleMarker at 0x7fea2bc47da0>,\n",
       " <folium.vector_layers.CircleMarker at 0x7fea2bc47dd8>,\n",
       " <folium.vector_layers.CircleMarker at 0x7fea2bc47e80>,\n",
       " <folium.vector_layers.CircleMarker at 0x7fea2bc47f28>,\n",
       " <folium.vector_layers.CircleMarker at 0x7fea2bc47fd0>,\n",
       " <folium.vector_layers.CircleMarker at 0x7fea2bc47eb8>,\n",
       " <folium.vector_layers.CircleMarker at 0x7fea2bc5a0b8>,\n",
       " <folium.vector_layers.CircleMarker at 0x7fea2bca1160>,\n",
       " <folium.vector_layers.CircleMarker at 0x7fea2bcb44e0>,\n",
       " <folium.vector_layers.CircleMarker at 0x7fea2bcb4e48>,\n",
       " <folium.vector_layers.CircleMarker at 0x7fea2bcb4e10>,\n",
       " <folium.vector_layers.CircleMarker at 0x7fea2bc47c18>,\n",
       " <folium.vector_layers.CircleMarker at 0x7fea2bc47cf8>,\n",
       " <folium.vector_layers.CircleMarker at 0x7fea2bc47d68>,\n",
       " <folium.vector_layers.CircleMarker at 0x7fea2bc472b0>,\n",
       " <folium.vector_layers.CircleMarker at 0x7fea2bc47160>,\n",
       " <folium.vector_layers.CircleMarker at 0x7fea2bc477b8>,\n",
       " <folium.vector_layers.CircleMarker at 0x7fea2bc472e8>,\n",
       " <folium.vector_layers.CircleMarker at 0x7fea2bc477f0>,\n",
       " <folium.vector_layers.CircleMarker at 0x7fea2bc47ba8>,\n",
       " <folium.vector_layers.CircleMarker at 0x7fea2bc479b0>,\n",
       " <folium.vector_layers.CircleMarker at 0x7fea2bc5a198>,\n",
       " <folium.vector_layers.CircleMarker at 0x7fea2bc5a2b0>,\n",
       " <folium.vector_layers.CircleMarker at 0x7fea2bc5a128>,\n",
       " <folium.vector_layers.CircleMarker at 0x7fea2bc5a390>,\n",
       " <folium.vector_layers.CircleMarker at 0x7fea2bc5a438>,\n",
       " <folium.vector_layers.CircleMarker at 0x7fea2bc5a4e0>,\n",
       " <folium.vector_layers.CircleMarker at 0x7fea2bc5a588>,\n",
       " <folium.vector_layers.CircleMarker at 0x7fea2bc47978>,\n",
       " <folium.vector_layers.CircleMarker at 0x7fea2bc47588>,\n",
       " <folium.vector_layers.CircleMarker at 0x7fea2bc47470>,\n",
       " <folium.vector_layers.CircleMarker at 0x7fea2bc473c8>,\n",
       " <folium.vector_layers.CircleMarker at 0x7fea2bc47f98>,\n",
       " <folium.vector_layers.CircleMarker at 0x7fea2bc47d30>,\n",
       " <folium.vector_layers.CircleMarker at 0x7fea2bcb4128>,\n",
       " <folium.vector_layers.CircleMarker at 0x7fea2bcb45f8>,\n",
       " <folium.vector_layers.CircleMarker at 0x7fea2bca1e48>,\n",
       " <folium.vector_layers.CircleMarker at 0x7fea2bc47e10>,\n",
       " <folium.vector_layers.CircleMarker at 0x7fea2bc5a278>,\n",
       " <folium.vector_layers.CircleMarker at 0x7fea2bc5a208>,\n",
       " <folium.vector_layers.CircleMarker at 0x7fea2bc5a320>,\n",
       " <folium.vector_layers.CircleMarker at 0x7fea2bc5a080>,\n",
       " <folium.vector_layers.CircleMarker at 0x7fea2bc5a518>,\n",
       " <folium.vector_layers.CircleMarker at 0x7fea2bc5a748>,\n",
       " <folium.vector_layers.CircleMarker at 0x7fea2bc5a780>,\n",
       " <folium.vector_layers.CircleMarker at 0x7fea2bc5a828>,\n",
       " <folium.vector_layers.CircleMarker at 0x7fea2bc5a8d0>,\n",
       " <folium.vector_layers.CircleMarker at 0x7fea2bc5a978>,\n",
       " <folium.vector_layers.CircleMarker at 0x7fea2bc5aa20>,\n",
       " <folium.vector_layers.CircleMarker at 0x7fea2bc5aac8>,\n",
       " <folium.vector_layers.CircleMarker at 0x7fea2bcb4c50>,\n",
       " <folium.vector_layers.CircleMarker at 0x7fea2bc474e0>,\n",
       " <folium.vector_layers.CircleMarker at 0x7fea2bc47c50>,\n",
       " <folium.vector_layers.CircleMarker at 0x7fea2bc471d0>,\n",
       " <folium.vector_layers.CircleMarker at 0x7fea2bc47b00>,\n",
       " <folium.vector_layers.CircleMarker at 0x7fea2bc476d8>,\n",
       " <folium.vector_layers.CircleMarker at 0x7fea2bc5a9e8>,\n",
       " <folium.vector_layers.CircleMarker at 0x7fea2bc5a898>,\n",
       " <folium.vector_layers.CircleMarker at 0x7fea2bc5a0f0>,\n",
       " <folium.vector_layers.CircleMarker at 0x7fea2bc5a710>,\n",
       " <folium.vector_layers.CircleMarker at 0x7fea2bc5a4a8>,\n",
       " <folium.vector_layers.CircleMarker at 0x7fea2bc5a160>,\n",
       " <folium.vector_layers.CircleMarker at 0x7fea2bc5a3c8>,\n",
       " <folium.vector_layers.CircleMarker at 0x7fea2bc5ab70>,\n",
       " <folium.vector_layers.CircleMarker at 0x7fea2bc5aa58>,\n",
       " <folium.vector_layers.CircleMarker at 0x7fea2bc5ac88>,\n",
       " <folium.vector_layers.CircleMarker at 0x7fea2bc5acc0>,\n",
       " <folium.vector_layers.CircleMarker at 0x7fea2bc5ad68>,\n",
       " <folium.vector_layers.CircleMarker at 0x7fea2bc5ae10>,\n",
       " <folium.vector_layers.CircleMarker at 0x7fea2bc5aeb8>,\n",
       " <folium.vector_layers.CircleMarker at 0x7fea2bc5af60>,\n",
       " <folium.vector_layers.CircleMarker at 0x7fea2bc5aef0>,\n",
       " <folium.vector_layers.CircleMarker at 0x7fea2bc47e48>,\n",
       " <folium.vector_layers.CircleMarker at 0x7fea2bcb4710>,\n",
       " <folium.vector_layers.CircleMarker at 0x7fea2bc47ef0>,\n",
       " <folium.vector_layers.CircleMarker at 0x7fea2bc47f60>,\n",
       " <folium.vector_layers.CircleMarker at 0x7fea2bc5acf8>,\n",
       " <folium.vector_layers.CircleMarker at 0x7fea2bc5ac18>,\n",
       " <folium.vector_layers.CircleMarker at 0x7fea2bc5a6a0>,\n",
       " <folium.vector_layers.CircleMarker at 0x7fea2bc5a400>,\n",
       " <folium.vector_layers.CircleMarker at 0x7fea2bc5a9b0>,\n",
       " <folium.vector_layers.CircleMarker at 0x7fea2bc5a048>,\n",
       " <folium.vector_layers.CircleMarker at 0x7fea2bc5a668>,\n",
       " <folium.vector_layers.CircleMarker at 0x7fea2bc5a860>,\n",
       " <folium.vector_layers.CircleMarker at 0x7fea2bc5a940>,\n",
       " <folium.vector_layers.CircleMarker at 0x7fea2bc5a7f0>,\n",
       " <folium.vector_layers.CircleMarker at 0x7fea2bc70048>,\n",
       " <folium.vector_layers.CircleMarker at 0x7fea2bc70160>,\n",
       " <folium.vector_layers.CircleMarker at 0x7fea2bc70240>,\n",
       " <folium.vector_layers.CircleMarker at 0x7fea2bc702e8>,\n",
       " <folium.vector_layers.CircleMarker at 0x7fea2bc70390>,\n",
       " <folium.vector_layers.CircleMarker at 0x7fea2bc70438>,\n",
       " <folium.vector_layers.CircleMarker at 0x7fea2bc704e0>,\n",
       " <folium.vector_layers.CircleMarker at 0x7fea2bc70588>,\n",
       " <folium.vector_layers.CircleMarker at 0x7fea2bc5afd0>,\n",
       " <folium.vector_layers.CircleMarker at 0x7fea2bc5a5c0>,\n",
       " <folium.vector_layers.CircleMarker at 0x7fea2bc5a630>,\n",
       " <folium.vector_layers.CircleMarker at 0x7fea2bc5a1d0>,\n",
       " <folium.vector_layers.CircleMarker at 0x7fea2bcb4dd8>,\n",
       " <folium.vector_layers.CircleMarker at 0x7fea2bc5a2e8>,\n",
       " <folium.vector_layers.CircleMarker at 0x7fea2bc5ae80>,\n",
       " <folium.vector_layers.CircleMarker at 0x7fea2bc5abe0>,\n",
       " <folium.vector_layers.CircleMarker at 0x7fea2bc47ac8>,\n",
       " <folium.vector_layers.CircleMarker at 0x7fea2bc703c8>,\n",
       " <folium.vector_layers.CircleMarker at 0x7fea2bc70400>,\n",
       " <folium.vector_layers.CircleMarker at 0x7fea2bc702b0>,\n",
       " <folium.vector_layers.CircleMarker at 0x7fea2bc700f0>,\n",
       " <folium.vector_layers.CircleMarker at 0x7fea2bc70630>,\n",
       " <folium.vector_layers.CircleMarker at 0x7fea2bc70518>,\n",
       " <folium.vector_layers.CircleMarker at 0x7fea2bc70748>,\n",
       " <folium.vector_layers.CircleMarker at 0x7fea2bc70780>,\n",
       " <folium.vector_layers.CircleMarker at 0x7fea2bc70828>,\n",
       " <folium.vector_layers.CircleMarker at 0x7fea2bc708d0>,\n",
       " <folium.vector_layers.CircleMarker at 0x7fea2bc70978>,\n",
       " <folium.vector_layers.CircleMarker at 0x7fea2bc70a20>,\n",
       " <folium.vector_layers.CircleMarker at 0x7fea2bc70ac8>,\n",
       " <folium.vector_layers.CircleMarker at 0x7fea2bc47668>,\n",
       " <folium.vector_layers.CircleMarker at 0x7fea2bc5ae48>,\n",
       " <folium.vector_layers.CircleMarker at 0x7fea2bc5add8>,\n",
       " <folium.vector_layers.CircleMarker at 0x7fea2bc5ad30>,\n",
       " <folium.vector_layers.CircleMarker at 0x7fea2bc5a550>,\n",
       " <folium.vector_layers.CircleMarker at 0x7fea2bc5aba8>,\n",
       " <folium.vector_layers.CircleMarker at 0x7fea2bc709e8>,\n",
       " <folium.vector_layers.CircleMarker at 0x7fea2bc70898>,\n",
       " <folium.vector_layers.CircleMarker at 0x7fea2bc706a0>,\n",
       " <folium.vector_layers.CircleMarker at 0x7fea2bc70710>,\n",
       " <folium.vector_layers.CircleMarker at 0x7fea2bc70198>,\n",
       " <folium.vector_layers.CircleMarker at 0x7fea2bc701d0>,\n",
       " <folium.vector_layers.CircleMarker at 0x7fea2bc704a8>,\n",
       " <folium.vector_layers.CircleMarker at 0x7fea2bc70b70>,\n",
       " <folium.vector_layers.CircleMarker at 0x7fea2bc70a58>,\n",
       " <folium.vector_layers.CircleMarker at 0x7fea2bc70c88>,\n",
       " <folium.vector_layers.CircleMarker at 0x7fea2bc70cc0>,\n",
       " <folium.vector_layers.CircleMarker at 0x7fea2bc70d68>,\n",
       " <folium.vector_layers.CircleMarker at 0x7fea2bc70e10>,\n",
       " <folium.vector_layers.CircleMarker at 0x7fea2bc70eb8>,\n",
       " <folium.vector_layers.CircleMarker at 0x7fea2bc70f60>,\n",
       " <folium.vector_layers.CircleMarker at 0x7fea2bc70ef0>,\n",
       " <folium.vector_layers.CircleMarker at 0x7fea2bc5af28>,\n",
       " <folium.vector_layers.CircleMarker at 0x7fea2bc47828>,\n",
       " <folium.vector_layers.CircleMarker at 0x7fea2bc5af98>,\n",
       " <folium.vector_layers.CircleMarker at 0x7fea2bc5ac50>,\n",
       " <folium.vector_layers.CircleMarker at 0x7fea2bc70f28>,\n",
       " <folium.vector_layers.CircleMarker at 0x7fea2bc70dd8>,\n",
       " <folium.vector_layers.CircleMarker at 0x7fea2bc70be0>,\n",
       " <folium.vector_layers.CircleMarker at 0x7fea2bc70c50>,\n",
       " <folium.vector_layers.CircleMarker at 0x7fea2bc70470>,\n",
       " <folium.vector_layers.CircleMarker at 0x7fea2bc70358>,\n",
       " <folium.vector_layers.CircleMarker at 0x7fea2bc706d8>,\n",
       " <folium.vector_layers.CircleMarker at 0x7fea2bc70080>,\n",
       " <folium.vector_layers.CircleMarker at 0x7fea2bc705c0>,\n",
       " <folium.vector_layers.CircleMarker at 0x7fea2bc70b38>,\n",
       " <folium.vector_layers.CircleMarker at 0x7fea2bc70940>,\n",
       " <folium.vector_layers.CircleMarker at 0x7fea2bc030f0>,\n",
       " <folium.vector_layers.CircleMarker at 0x7fea2bc031d0>,\n",
       " <folium.vector_layers.CircleMarker at 0x7fea2bc03278>,\n",
       " <folium.vector_layers.CircleMarker at 0x7fea2bc03320>,\n",
       " <folium.vector_layers.CircleMarker at 0x7fea2bc033c8>,\n",
       " <folium.vector_layers.CircleMarker at 0x7fea2bc03470>,\n",
       " <folium.vector_layers.CircleMarker at 0x7fea2bc70e48>,\n",
       " <folium.vector_layers.CircleMarker at 0x7fea2bc70668>,\n",
       " <folium.vector_layers.CircleMarker at 0x7fea2bc70128>,\n",
       " <folium.vector_layers.CircleMarker at 0x7fea2bc70208>,\n",
       " <folium.vector_layers.CircleMarker at 0x7fea2bc70cf8>,\n",
       " <folium.vector_layers.CircleMarker at 0x7fea2bc70d30>,\n",
       " <folium.vector_layers.CircleMarker at 0x7fea2bc70fd0>,\n",
       " <folium.vector_layers.CircleMarker at 0x7fea2bc70b00>,\n",
       " <folium.vector_layers.CircleMarker at 0x7fea2bc5a6d8>,\n",
       " <folium.vector_layers.CircleMarker at 0x7fea2bc5a7b8>,\n",
       " <folium.vector_layers.CircleMarker at 0x7fea2bca1710>,\n",
       " <folium.vector_layers.CircleMarker at 0x7fea2bcfa7b8>,\n",
       " <folium.vector_layers.CircleMarker at 0x7fea2bc5a358>,\n",
       " <folium.vector_layers.CircleMarker at 0x7fea2bc5a5f8>,\n",
       " <folium.vector_layers.CircleMarker at 0x7fea2bc47198>,\n",
       " <folium.vector_layers.CircleMarker at 0x7fea2bc03518>,\n",
       " <folium.vector_layers.CircleMarker at 0x7fea2bc03390>,\n",
       " <folium.vector_layers.CircleMarker at 0x7fea2bc03240>,\n",
       " <folium.vector_layers.CircleMarker at 0x7fea2bc03080>,\n",
       " <folium.vector_layers.CircleMarker at 0x7fea2bc035c0>,\n",
       " <folium.vector_layers.CircleMarker at 0x7fea2bc034a8>,\n",
       " <folium.vector_layers.CircleMarker at 0x7fea2bc036a0>,\n",
       " <folium.vector_layers.CircleMarker at 0x7fea2bc03748>,\n",
       " <folium.vector_layers.CircleMarker at 0x7fea2bcb4358>,\n",
       " <folium.vector_layers.CircleMarker at 0x7fea2bc475c0>,\n",
       " <folium.vector_layers.CircleMarker at 0x7fea2bc5aa90>,\n",
       " <folium.vector_layers.CircleMarker at 0x7fea2bc5a240>,\n",
       " <folium.vector_layers.CircleMarker at 0x7fea2bc5ab00>,\n",
       " <folium.vector_layers.CircleMarker at 0x7fea2bc70c18>,\n",
       " <folium.vector_layers.CircleMarker at 0x7fea2bc709b0>,\n",
       " <folium.vector_layers.CircleMarker at 0x7fea2bc707f0>,\n",
       " <folium.vector_layers.CircleMarker at 0x7fea2bc70a90>,\n",
       " <folium.vector_layers.CircleMarker at 0x7fea2bc707b8>,\n",
       " <folium.vector_layers.CircleMarker at 0x7fea2bc03668>,\n",
       " <folium.vector_layers.CircleMarker at 0x7fea2bc03400>,\n",
       " <folium.vector_layers.CircleMarker at 0x7fea2bc030b8>,\n",
       " <folium.vector_layers.CircleMarker at 0x7fea2bc03588>,\n",
       " <folium.vector_layers.CircleMarker at 0x7fea2bc03860>,\n",
       " <folium.vector_layers.CircleMarker at 0x7fea2bc03898>,\n",
       " <folium.vector_layers.CircleMarker at 0x7fea2bc03780>,\n",
       " <folium.vector_layers.CircleMarker at 0x7fea2bc03978>,\n",
       " <folium.vector_layers.CircleMarker at 0x7fea2bc03a20>,\n",
       " <folium.vector_layers.CircleMarker at 0x7fea2bc03ac8>,\n",
       " <folium.vector_layers.CircleMarker at 0x7fea2bc03b70>,\n",
       " <folium.vector_layers.CircleMarker at 0x7fea2bc70320>,\n",
       " <folium.vector_layers.CircleMarker at 0x7fea2bc70e80>,\n",
       " <folium.vector_layers.CircleMarker at 0x7fea2bca1be0>,\n",
       " <folium.vector_layers.CircleMarker at 0x7fea2bc5ab38>,\n",
       " <folium.vector_layers.CircleMarker at 0x7fea2bc5a908>,\n",
       " <folium.vector_layers.CircleMarker at 0x7fea2bc47cc0>,\n",
       " <folium.vector_layers.CircleMarker at 0x7fea2bc70908>,\n",
       " <folium.vector_layers.CircleMarker at 0x7fea2bc03b38>,\n",
       " <folium.vector_layers.CircleMarker at 0x7fea2bc039e8>,\n",
       " <folium.vector_layers.CircleMarker at 0x7fea2bc03048>,\n",
       " <folium.vector_layers.CircleMarker at 0x7fea2bc036d8>,\n",
       " <folium.vector_layers.CircleMarker at 0x7fea2bc03198>,\n",
       " <folium.vector_layers.CircleMarker at 0x7fea2bc03160>,\n",
       " <folium.vector_layers.CircleMarker at 0x7fea2bc03710>,\n",
       " <folium.vector_layers.CircleMarker at 0x7fea2bc03b00>,\n",
       " <folium.vector_layers.CircleMarker at 0x7fea2bc03d30>,\n",
       " <folium.vector_layers.CircleMarker at 0x7fea2bc03d68>,\n",
       " <folium.vector_layers.CircleMarker at 0x7fea2bc03e10>,\n",
       " <folium.vector_layers.CircleMarker at 0x7fea2bc03eb8>,\n",
       " <folium.vector_layers.CircleMarker at 0x7fea2bc03f60>,\n",
       " <folium.vector_layers.CircleMarker at 0x7fea2bc03ef0>,\n",
       " <folium.vector_layers.CircleMarker at 0x7fea2bc18048>,\n",
       " <folium.vector_layers.CircleMarker at 0x7fea2bc03c18>,\n",
       " <folium.vector_layers.CircleMarker at 0x7fea2bc03f28>,\n",
       " <folium.vector_layers.CircleMarker at 0x7fea2bc037b8>,\n",
       " <folium.vector_layers.CircleMarker at 0x7fea2bc03cf8>,\n",
       " <folium.vector_layers.CircleMarker at 0x7fea2bc03208>,\n",
       " <folium.vector_layers.CircleMarker at 0x7fea2bc03550>,\n",
       " <folium.vector_layers.CircleMarker at 0x7fea2bc47710>,\n",
       " <folium.vector_layers.CircleMarker at 0x7fea2bc5a470>,\n",
       " <folium.vector_layers.CircleMarker at 0x7fea2bc039b0>,\n",
       " <folium.vector_layers.CircleMarker at 0x7fea2bc03c88>,\n",
       " <folium.vector_layers.CircleMarker at 0x7fea2bc03a90>,\n",
       " <folium.vector_layers.CircleMarker at 0x7fea2bc70860>,\n",
       " <folium.vector_layers.CircleMarker at 0x7fea2bc705f8>,\n",
       " <folium.vector_layers.CircleMarker at 0x7fea2bc70f98>,\n",
       " <folium.vector_layers.CircleMarker at 0x7fea2bc18198>,\n",
       " <folium.vector_layers.CircleMarker at 0x7fea2bc182b0>,\n",
       " <folium.vector_layers.CircleMarker at 0x7fea2bc182e8>,\n",
       " <folium.vector_layers.CircleMarker at 0x7fea2bc18390>,\n",
       " <folium.vector_layers.CircleMarker at 0x7fea2bc18438>,\n",
       " <folium.vector_layers.CircleMarker at 0x7fea2bc184e0>,\n",
       " <folium.vector_layers.CircleMarker at 0x7fea2bc18588>,\n",
       " <folium.vector_layers.CircleMarker at 0x7fea2bc18630>,\n",
       " <folium.vector_layers.CircleMarker at 0x7fea2bcb4f60>,\n",
       " <folium.vector_layers.CircleMarker at 0x7fea2bc70278>,\n",
       " <folium.vector_layers.CircleMarker at 0x7fea2bc70da0>,\n",
       " <folium.vector_layers.CircleMarker at 0x7fea2bc038d0>,\n",
       " <folium.vector_layers.CircleMarker at 0x7fea2bc037f0>,\n",
       " <folium.vector_layers.CircleMarker at 0x7fea2bc03ba8>,\n",
       " <folium.vector_layers.CircleMarker at 0x7fea2bc03128>,\n",
       " <folium.vector_layers.CircleMarker at 0x7fea2bc03da0>,\n",
       " <folium.vector_layers.CircleMarker at 0x7fea2bc03cc0>,\n",
       " <folium.vector_layers.CircleMarker at 0x7fea2bc18550>,\n",
       " <folium.vector_layers.CircleMarker at 0x7fea2bc18400>,\n",
       " <folium.vector_layers.CircleMarker at 0x7fea2bc181d0>,\n",
       " <folium.vector_layers.CircleMarker at 0x7fea2bc18240>,\n",
       " <folium.vector_layers.CircleMarker at 0x7fea2bc186d8>,\n",
       " <folium.vector_layers.CircleMarker at 0x7fea2bc185c0>]"
      ]
     },
     "execution_count": 96,
     "metadata": {},
     "output_type": "execute_result"
    }
   ],
   "source": [
    "trip_markers = markers_from_trips(cleaned_trips)\n",
    "trip_markers"
   ]
  },
  {
   "cell_type": "code",
   "execution_count": 97,
   "metadata": {},
   "outputs": [
    {
     "data": {
      "text/plain": [
       "[{'trip_distance': 18.38,\n",
       "  'pickup_latitude': 40.64499,\n",
       "  'pickup_longitude': -73.78115},\n",
       " {'trip_distance': 1.3,\n",
       "  'pickup_latitude': 40.766931,\n",
       "  'pickup_longitude': -73.982098},\n",
       " {'trip_distance': 4.5,\n",
       "  'pickup_latitude': 40.77773,\n",
       "  'pickup_longitude': -73.951902},\n",
       " {'trip_distance': 2.4,\n",
       "  'pickup_latitude': 40.795678,\n",
       "  'pickup_longitude': -73.971049}]"
      ]
     },
     "execution_count": 97,
     "metadata": {},
     "output_type": "execute_result"
    }
   ],
   "source": [
    "cleaned_trips[0:4]"
   ]
  },
  {
   "cell_type": "code",
   "execution_count": 98,
   "metadata": {},
   "outputs": [
    {
     "data": {
      "text/plain": [
       "[[40.64499, -73.78115],\n",
       " [40.766931, -73.982098],\n",
       " [40.77773, -73.951902],\n",
       " [40.795678, -73.971049]]"
      ]
     },
     "execution_count": 98,
     "metadata": {},
     "output_type": "execute_result"
    }
   ],
   "source": [
    "trip_markers and len(trip_markers) # 1000\n",
    "\n",
    "list(map(lambda marker: marker.location, trip_markers[0:4]))\n",
    "# [[40.64499, -73.78115],\n",
    "#  [40.766931, -73.982098],\n",
    "#  [40.77773, -73.951902],\n",
    "#  [40.795678, -73.971049]]"
   ]
  },
  {
   "cell_type": "markdown",
   "metadata": {},
   "source": [
    "Ok, now that we have a function that creates locations, and a function that creates markers, it is time to write a function to plot a map. \n",
    "\n",
    "Write a function called `map_from` that, provided the first argument of a list location and second argument an integer representing the `zoom_start`, returns a `folium` map the corresponding location and `zoom_start` attributes.\n",
    "\n",
    "> Hint: The following is how to write a map with folium:\n",
    "> ```python \n",
    "    folium.Map(location=location, zoom_start=zoom_amount)\n",
    "> ```"
   ]
  },
  {
   "cell_type": "code",
   "execution_count": null,
   "metadata": {},
   "outputs": [],
   "source": [
    "def map_from(location, zoom_amount):\n",
    "    pass"
   ]
  },
  {
   "cell_type": "code",
   "execution_count": null,
   "metadata": {},
   "outputs": [],
   "source": [
    "times_square_map = map_from([40.7589, -73.9851], 15)\n",
    "times_square_map and times_square_map.location # [40.7589, -73.9851]\n",
    "times_square_map and times_square_map.zoom_start # 15"
   ]
  },
  {
   "cell_type": "code",
   "execution_count": null,
   "metadata": {
    "scrolled": true
   },
   "outputs": [],
   "source": [
    "times_square_marker and times_square_marker.add_to(times_square_map)\n",
    "times_square_map"
   ]
  },
  {
   "cell_type": "markdown",
   "metadata": {},
   "source": [
    "Now that we have a marker and a map, now let's write a function that adds a lot of markers to a map.  This function should add each marker in the list to the map object then return the updated map object."
   ]
  },
  {
   "cell_type": "code",
   "execution_count": null,
   "metadata": {},
   "outputs": [],
   "source": [
    "manhattan_map = map_from([40.7589, -73.9851], 13)"
   ]
  },
  {
   "cell_type": "code",
   "execution_count": null,
   "metadata": {},
   "outputs": [],
   "source": [
    "def add_markers(markers, map_obj):\n",
    "    pass"
   ]
  },
  {
   "cell_type": "code",
   "execution_count": null,
   "metadata": {
    "scrolled": false
   },
   "outputs": [],
   "source": [
    "map_with_markers = add_markers(trip_markers, manhattan_map)"
   ]
  },
  {
   "cell_type": "code",
   "execution_count": null,
   "metadata": {},
   "outputs": [],
   "source": [
    "map_with_markers"
   ]
  },
  {
   "cell_type": "markdown",
   "metadata": {},
   "source": [
    "### Using Nearest Neighbors"
   ]
  },
  {
   "cell_type": "markdown",
   "metadata": {},
   "source": [
    "Ok, let's write a function that given a latitude and longitude will predict the distance for us.  We'll do this by first finding the nearest trips given a latitude and longitude. "
   ]
  },
  {
   "cell_type": "markdown",
   "metadata": {},
   "source": [
    "Here we once again apply the nearest neighbors formula. As a first step, write a function named `distance_location` that calculates the distance in pickup location between two trips."
   ]
  },
  {
   "cell_type": "code",
   "execution_count": null,
   "metadata": {},
   "outputs": [],
   "source": [
    "import math\n",
    "\n",
    "def distance_location(selected_trip, neighbor_trip):\n",
    "    pass"
   ]
  },
  {
   "cell_type": "code",
   "execution_count": null,
   "metadata": {},
   "outputs": [],
   "source": [
    "first_trip = {'pickup_latitude': 40.64499, 'pickup_longitude': -73.78115, 'trip_distance': 18.38}\n",
    "second_trip = {'pickup_latitude': 40.766931, 'pickup_longitude': -73.982098, 'trip_distance': 1.3}\n",
    "distance_first_and_second = distance_location(first_trip, second_trip)\n",
    "\n",
    "distance_first_and_second and round(distance_first_and_second, 3) # 0.235"
   ]
  },
  {
   "cell_type": "markdown",
   "metadata": {},
   "source": [
    "Ok, next write a function called `distance_between_neighbors` that adds a new key-value pair, called `distance_from_selected`, that calculates the distance of the `neighbor_trip` from the `selected_trip`."
   ]
  },
  {
   "cell_type": "code",
   "execution_count": null,
   "metadata": {},
   "outputs": [],
   "source": [
    "def distance_between_neighbors(selected_trip, neighbor_trip):\n",
    "    pass"
   ]
  },
  {
   "cell_type": "code",
   "execution_count": null,
   "metadata": {},
   "outputs": [],
   "source": [
    "distance_between_neighbors(first_trip, second_trip)\n",
    "\n",
    "# {'distance_from_selected': 0.23505256047318146,\n",
    "#  'pickup_latitude': 40.766931,\n",
    "#  'pickup_longitude': -73.982098,\n",
    "#  'trip_distance': 1.3}"
   ]
  },
  {
   "cell_type": "markdown",
   "metadata": {},
   "source": [
    "Ok, now our `neighbor_trip` has another attribute called `distance_from_selected`, that indicates the distance from the `neighbor_trip`'s pickup location from the `selected_trip`."
   ]
  },
  {
   "cell_type": "markdown",
   "metadata": {},
   "source": [
    "> ** Understand the data:** Our dictionary now has a few attributes, two of which say distance.  Let's make sure we understand the difference. \n",
    "> * **`distance_from_selected`:** This is our calculation of the distance of the neighbor's pickup location from the selected trip.\n",
    "> * **`trip_distance`:** This is the attribute we were provided initially.  It tells us the length of the neighbor's taxi trip from pickup to drop-off.  "
   ]
  },
  {
   "cell_type": "markdown",
   "metadata": {},
   "source": [
    "Next, write a function called `distance_all` that provided a list of neighbors, returns each of those neighbors with their respective `distance_from_selected` numbers."
   ]
  },
  {
   "cell_type": "code",
   "execution_count": null,
   "metadata": {},
   "outputs": [],
   "source": [
    "def distance_all(selected_individual, neighbors):\n",
    "    pass"
   ]
  },
  {
   "cell_type": "code",
   "execution_count": null,
   "metadata": {},
   "outputs": [],
   "source": [
    "cleaned_trips and distance_all(first_trip, cleaned_trips[0:4])"
   ]
  },
  {
   "cell_type": "markdown",
   "metadata": {},
   "source": [
    "Now write the nearest neighbors formula to calculate the distance of the `selected_trip` from all of the `cleaned_trips` in our dataset.  If no number is provided, it should return the top 3 neighbors."
   ]
  },
  {
   "cell_type": "code",
   "execution_count": null,
   "metadata": {},
   "outputs": [],
   "source": [
    "def nearest_neighbors(selected_trip, trips, number = 3):\n",
    "    pass"
   ]
  },
  {
   "cell_type": "code",
   "execution_count": null,
   "metadata": {},
   "outputs": [],
   "source": [
    "new_trip = {'pickup_latitude': 40.64499,\n",
    "'pickup_longitude': -73.78115,\n",
    "'trip_distance': 18.38}\n",
    "\n",
    "nearest_three_neighbors = nearest_neighbors(new_trip, cleaned_trips or [], number = 3)\n",
    "nearest_three_neighbors\n",
    "# [{'distance_from_selected': 0.0004569288784918792,\n",
    "#   'pickup_latitude': 40.64483,\n",
    "#   'pickup_longitude': -73.781578,\n",
    "#   'trip_distance': 7.78},\n",
    "#  {'distance_from_selected': 0.0011292165425673159,\n",
    "#   'pickup_latitude': 40.644657,\n",
    "#   'pickup_longitude': -73.782229,\n",
    "#   'trip_distance': 12.7},\n",
    "#  {'distance_from_selected': 0.0042359798158141185,\n",
    "#   'pickup_latitude': 40.648509,\n",
    "#   'pickup_longitude': -73.783508,\n",
    "#   'trip_distance': 17.3}]"
   ]
  },
  {
   "cell_type": "markdown",
   "metadata": {},
   "source": [
    "Ok great! Now that we can provide a new trip location, and find the distances of the three nearest trips, we can take  calculate an estimate of the trip distance for that new trip location.  \n",
    "\n",
    "We do so simply by calculating the average of it's nearest neighbors."
   ]
  },
  {
   "cell_type": "code",
   "execution_count": null,
   "metadata": {},
   "outputs": [],
   "source": [
    "import statistics\n",
    "def mean_distance(neighbors):\n",
    "    nearest_distances = list(map(lambda neighbor: neighbor['trip_distance'], neighbors))\n",
    "    return round(statistics.mean(nearest_distances), 3)\n",
    "\n",
    "nearest_three_neighbors = nearest_neighbors(new_trip, cleaned_trips or [], number = 3)\n",
    "distance_estimate_of_selected_trip = mean_distance(nearest_three_neighbors) # 12.593\n",
    "distance_estimate_of_selected_trip"
   ]
  },
  {
   "cell_type": "markdown",
   "metadata": {},
   "source": [
    "### Choosing the correct number of neighbors"
   ]
  },
  {
   "cell_type": "markdown",
   "metadata": {},
   "source": [
    "Now, as we know from the last lesson, one tricky element is to determine how many neighbors to choose, our $k$ value,  before calculating the average.  We want to choose our value of $k$ such that it properly matches actual data, and so that it applies to new data.  There are fancy formulas to ensure that we **train** our algorithm so that our formula is optimized for all data, but here let's see different $k$ values manually.  This is the gist of choosing our $k$ value:\n",
    "\n",
    "* If we choose a $k$ value too low, our formula will be too heavily influenced by a single neighbor, whereas if our $k$ value is too high, we will be choosing so many neighbors that our nearest neighbors formula will not be adjust enough according to locations.\n",
    "\n",
    "Ok, let's experiment with this."
   ]
  },
  {
   "cell_type": "markdown",
   "metadata": {},
   "source": [
    "First, let's choose a midtown location, to see what the trip distance would be.  A Google search reveals the coordinates of 51st and 7th avenue to be the following."
   ]
  },
  {
   "cell_type": "code",
   "execution_count": null,
   "metadata": {},
   "outputs": [],
   "source": [
    "midtown_trip = dict(pickup_latitude=40.761710, pickup_longitude=-73.982760)"
   ]
  },
  {
   "cell_type": "code",
   "execution_count": null,
   "metadata": {},
   "outputs": [],
   "source": [
    "seven_closest = nearest_neighbors(midtown_trip, cleaned_trips, number = 7)\n",
    "seven_closest\n",
    "# [{'trip_distance': 0.58,\n",
    "#   'pickup_latitude': 40.761372,\n",
    "#   'pickup_longitude': -73.982602,\n",
    "#   'distance_from_selected': 0.00037310588309379025},\n",
    "#  {'trip_distance': 0.8,\n",
    "#   'pickup_latitude': 40.762444,\n",
    "#   'pickup_longitude': -73.98244,\n",
    "#   'distance_from_selected': 0.00080072217404248},\n",
    "#  {'trip_distance': 1.4,\n",
    "#   'pickup_latitude': 40.762767,\n",
    "#   'pickup_longitude': -73.982293,\n",
    "#   'distance_from_selected': 0.0011555682584735844},\n",
    "#  {'trip_distance': 8.3,\n",
    "#   'pickup_latitude': 40.762868,\n",
    "#   'pickup_longitude': -73.983233,\n",
    "#   'distance_from_selected': 0.0012508768924205918},\n",
    "#  {'trip_distance': 1.26,\n",
    "#   'pickup_latitude': 40.760057,\n",
    "#   'pickup_longitude': -73.983502,\n",
    "#   'distance_from_selected': 0.0018118976240381972},\n",
    "#  {'trip_distance': 0.0,\n",
    "#   'pickup_latitude': 40.760644,\n",
    "#   'pickup_longitude': -73.984531,\n",
    "#   'distance_from_selected': 0.002067074502774709},\n",
    "#  {'trip_distance': 1.72,\n",
    "#   'pickup_latitude': 40.762107,\n",
    "#   'pickup_longitude': -73.98479,\n",
    "#   'distance_from_selected': 0.0020684557041472677}]"
   ]
  },
  {
   "cell_type": "markdown",
   "metadata": {},
   "source": [
    "Looking at the `distance_from_selected` it appears that our our trips are still fairly close to our selected trip.  Notice that most of the data is within a distance of .002 away, so going to the top 7 nearest neighbors didn't seem to give us neighbors too far from each other, which is a good sign.\n",
    "\n",
    "Still, it's hard to know what distance in latitude and longitude really look like, so let's map the data. "
   ]
  },
  {
   "cell_type": "code",
   "execution_count": null,
   "metadata": {},
   "outputs": [],
   "source": [
    "midtown_location = location(midtown_trip) # [40.76171, -73.98276]\n",
    "midtown_map = map_from(midtown_location, 16)\n",
    "closest_markers = markers_from_trips(seven_closest)\n",
    "\n",
    "add_markers(closest_markers, midtown_map)"
   ]
  },
  {
   "cell_type": "markdown",
   "metadata": {},
   "source": [
    "Ok.  These locations stay fairly close to our estimated location of 51st street and 7th Avenue.  So they could be a good estimate of a trip distance."
   ]
  },
  {
   "cell_type": "code",
   "execution_count": null,
   "metadata": {},
   "outputs": [],
   "source": [
    "mean_distance(seven_closest) # 2.009"
   ]
  },
  {
   "cell_type": "markdown",
   "metadata": {},
   "source": [
    "Ok, now let's try a different location"
   ]
  },
  {
   "cell_type": "code",
   "execution_count": null,
   "metadata": {},
   "outputs": [],
   "source": [
    "charging_bull_closest = nearest_neighbors({'pickup_latitude': 40.7049, 'pickup_longitude': -74.0137}, cleaned_trips, number = 12)"
   ]
  },
  {
   "cell_type": "code",
   "execution_count": null,
   "metadata": {
    "scrolled": true
   },
   "outputs": [],
   "source": [
    "mean_distance(charging_bull_closest) # 3.145"
   ]
  },
  {
   "cell_type": "markdown",
   "metadata": {},
   "source": [
    "Ok, so there appears to be a significant difference between choosing a location near Times Square versus choosing a location at Wall Street."
   ]
  },
  {
   "cell_type": "markdown",
   "metadata": {},
   "source": [
    "### Summary"
   ]
  },
  {
   "cell_type": "markdown",
   "metadata": {},
   "source": [
    "In this lab, we used the nearest neighbors function to predict the length of a taxi ride.  To do so, we selected a location, then found a number of taxi rides closest to that location, and finally took the average trip lengths of the nearest taxi rides to find an estimate of the new ride's trip length.  You can see that even with just a little bit of math and programming we can begin to make meaningful predictions with data."
   ]
  }
 ],
 "metadata": {
  "kernelspec": {
   "display_name": "Python 3",
   "language": "python",
   "name": "python3"
  },
  "language_info": {
   "codemirror_mode": {
    "name": "ipython",
    "version": 3
   },
   "file_extension": ".py",
   "mimetype": "text/x-python",
   "name": "python",
   "nbconvert_exporter": "python",
   "pygments_lexer": "ipython3",
   "version": "3.6.4"
  }
 },
 "nbformat": 4,
 "nbformat_minor": 2
}
